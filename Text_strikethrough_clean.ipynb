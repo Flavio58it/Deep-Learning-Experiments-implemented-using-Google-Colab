{
  "nbformat": 4,
  "nbformat_minor": 0,
  "metadata": {
    "colab": {
      "name": "Text_strikethrough_clean.ipynb",
      "version": "0.3.2",
      "provenance": [],
      "collapsed_sections": [],
      "include_colab_link": true
    },
    "kernelspec": {
      "name": "python3",
      "display_name": "Python 3"
    }
  },
  "cells": [
    {
      "cell_type": "markdown",
      "metadata": {
        "id": "view-in-github",
        "colab_type": "text"
      },
      "source": [
        "<a href=\"https://colab.research.google.com/github/navneetkrc/Colab_fastai/blob/master/Text_strikethrough_clean.ipynb\" target=\"_parent\"><img src=\"https://colab.research.google.com/assets/colab-badge.svg\" alt=\"Open In Colab\"/></a>"
      ]
    },
    {
      "metadata": {
        "id": "xGZlXl_B7dKK",
        "colab_type": "code",
        "colab": {}
      },
      "cell_type": "code",
      "source": [
        "!pip install pillow\n",
        "!pip install pytesseract"
      ],
      "execution_count": 0,
      "outputs": []
    },
    {
      "metadata": {
        "id": "0Ax99WC08ETa",
        "colab_type": "code",
        "colab": {}
      },
      "cell_type": "code",
      "source": [
        "#github link for the real captchas dataset\n",
        "#https://github.com/navneetkrc/Colab_fastai/raw/master/CAPTCHA_recognition/real_captchas.zip\n",
        "\n",
        "!unzip real_captchas.zip"
      ],
      "execution_count": 0,
      "outputs": []
    },
    {
      "metadata": {
        "id": "SvOLdFC485tH",
        "colab_type": "code",
        "colab": {}
      },
      "cell_type": "code",
      "source": [
        "!sudo apt-get install tesseract-ocr\n",
        "!mkdir clean_capchas"
      ],
      "execution_count": 0,
      "outputs": []
    },
    {
      "metadata": {
        "id": "lLTqwSmlsIRI",
        "colab_type": "code",
        "colab": {}
      },
      "cell_type": "code",
      "source": [
        "import cv2\n",
        "import numpy as np\n",
        "from matplotlib import pyplot as plt\n",
        "from IPython.display import Image as pyimg, display\n",
        "\n"
      ],
      "execution_count": 0,
      "outputs": []
    },
    {
      "metadata": {
        "id": "9lLPj4CtrjDU",
        "colab_type": "code",
        "colab": {}
      },
      "cell_type": "code",
      "source": [
        "def clear_captchas(file_name, i):\n",
        "  \n",
        "  display(pyimg(file_name))\n",
        "  \n",
        "  img = cv2.imread(file_name)\n",
        "  img = cv2.resize(img,(450,80))\n",
        "  #display(pyimg(img))\n",
        "  img=cv2.cvtColor(img,cv2.COLOR_BGR2GRAY)\n",
        "  #img = cv2.resize(img,(300,80))\n",
        "\n",
        "\n",
        "  img = cv2.bitwise_not(img)\n",
        "  th2 = cv2.adaptiveThreshold(img,255, cv2.ADAPTIVE_THRESH_MEAN_C,cv2.THRESH_BINARY,17,-7)\n",
        "\n",
        "  #cv2.imwrite(\"th2.png\", th2)\n",
        "  #display(pyimg('/content/th2.png'))\n",
        "\n",
        "\n",
        "  horizontal = th2\n",
        "  vertical = th2\n",
        "  rows,cols = horizontal.shape\n",
        "  horizontalsize = int(cols / 20)\n",
        "  horizontalStructure = cv2.getStructuringElement(cv2.MORPH_RECT, (horizontalsize,1))\n",
        "  horizontal = cv2.erode(horizontal, horizontalStructure, (-1, -1))\n",
        "  horizontal = cv2.dilate(horizontal, horizontalStructure, (-1, -1))\n",
        "\n",
        "  #cv2.imwrite(\"horizontal.png\", horizontal)\n",
        "  #display(pyimg('/content/horizontal.png'))\n",
        "\n",
        "  imorg = th2 - horizontal\n",
        "  #cv2.imwrite(\"decoded.png\", imorg)\n",
        "  #display(pyimg('decoded.png'))\n",
        "\n",
        "\n",
        "\n",
        "  #step1\n",
        "  edges = cv2.adaptiveThreshold(imorg,255, cv2.ADAPTIVE_THRESH_MEAN_C,cv2.THRESH_BINARY,7,-3)\n",
        "\n",
        "  #cv2.imwrite(\"edges.png\", edges)\n",
        "  #display(pyimg(\"edges.png\"))\n",
        "\n",
        "\n",
        "  #step2\n",
        "  kernel = np.ones(( 5,0), dtype = \"uint8\")\n",
        "  dilated = cv2.dilate(edges, kernel)\n",
        "  \n",
        "  blur = cv2.GaussianBlur(dilated,(3,3),0)\n",
        "\n",
        "  cv2.imwrite(\"/content/clean_capchas/\" + str(i) + \".png\",edges)\n",
        "  display(pyimg(\"/content/clean_capchas/\" + str(i) + \".png\"))\n"
      ],
      "execution_count": 0,
      "outputs": []
    },
    {
      "metadata": {
        "id": "_bIAnwLntqJU",
        "colab_type": "code",
        "colab": {}
      },
      "cell_type": "code",
      "source": [
        "def deco(file_name):\n",
        "    #display(pyimg(file_name))\n",
        "    image = cv2.imread(file_name)\n",
        "    gray1 = cv2.cvtColor(image, cv2.COLOR_BGR2GRAY)\n",
        "    gray2 = cv2.threshold(gray1, 0, 255,\n",
        "        cv2.THRESH_BINARY | cv2.THRESH_OTSU)[1]\n",
        "    gray = cv2.medianBlur(gray2, 5)\n",
        "    #gray3 = cv2.medianBlur(gray, 5)\n",
        "    #cv2.imwrite(\"new_img.png\", gray)\n",
        "\n",
        "    text = [\"\"]\n",
        "    text.append (pytesseract.image_to_string(image))\n",
        "    #print(text)\n",
        "    text.append(pytesseract.image_to_string(gray1))\n",
        "    #print(text)\n",
        "    text.append(pytesseract.image_to_string(gray2))\n",
        "    #print(text)\n",
        "    text.append(pytesseract.image_to_string(gray))\n",
        "    #print(text)\n",
        "    #text = pytesseract.image_to_string(gray3)\n",
        "    #print(text)\n",
        "    return text\n",
        "    "
      ],
      "execution_count": 0,
      "outputs": []
    },
    {
      "metadata": {
        "id": "IZLXxfRRri_m",
        "colab_type": "code",
        "outputId": "c6d73a3b-b0f2-4991-d5a8-7ee453919bfe",
        "colab": {
          "base_uri": "https://localhost:8080/",
          "height": 737
        }
      },
      "cell_type": "code",
      "source": [
        "import os\n",
        "files = (os.listdir('/content/captchas/'))\n",
        "i=0\n",
        "for f in files:\n",
        "  i +=1\n",
        "  clear_captchas('/content/captchas/' +f, i)\n",
        "  #text = deco('/content/content/clean_edges_captchas/' + f)\n",
        "  #print(text)\n",
        "  \n",
        "  if i>5:\n",
        "    break"
      ],
      "execution_count": 0,
      "outputs": [
        {
          "output_type": "display_data",
          "data": {
            "image/jpeg": "[encoded data removed]",
            "text/plain": [
              "<IPython.core.display.Image object>"
            ]
          },
          "metadata": {
            "tags": []
          }
        },
        {
          "output_type": "display_data",
          "data": {
            "image/png": "[encoded data removed]",
            "text/plain": [
              "<IPython.core.display.Image object>"
            ]
          },
          "metadata": {
            "tags": []
          }
        },
        {
          "output_type": "display_data",
          "data": {
            "image/jpeg": "[encoded data removed]",
            "text/plain": [
              "<IPython.core.display.Image object>"
            ]
          },
          "metadata": {
            "tags": []
          }
        },
        {
          "output_type": "display_data",
          "data": {
            "image/png": "[encoded data removed]",
            "text/plain": [
              "<IPython.core.display.Image object>"
            ]
          },
          "metadata": {
            "tags": []
          }
        },
        {
          "output_type": "display_data",
          "data": {
            "image/jpeg": "[encoded data removed]",
            "text/plain": [
              "<IPython.core.display.Image object>"
            ]
          },
          "metadata": {
            "tags": []
          }
        },
        {
          "output_type": "display_data",
          "data": {
            "image/png": "[encoded data removed]",
            "text/plain": [
              "<IPython.core.display.Image object>"
            ]
          },
          "metadata": {
            "tags": []
          }
        },
        {
          "output_type": "display_data",
          "data": {
            "image/jpeg": "[encoded data removed]",
            "text/plain": [
              "<IPython.core.display.Image object>"
            ]
          },
          "metadata": {
            "tags": []
          }
        },
        {
          "output_type": "display_data",
          "data": {
            "image/png": "[encoded data removed]",
            "text/plain": [
              "<IPython.core.display.Image object>"
            ]
          },
          "metadata": {
            "tags": []
          }
        },
        {
          "output_type": "display_data",
          "data": {
            "image/jpeg": "[encoded data removed]",
            "text/plain": [
              "<IPython.core.display.Image object>"
            ]
          },
          "metadata": {
            "tags": []
          }
        },
        {
          "output_type": "display_data",
          "data": {
            "image/png": "[encoded data removed]",
            "text/plain": [
              "<IPython.core.display.Image object>"
            ]
          },
          "metadata": {
            "tags": []
          }
        },
        {
          "output_type": "display_data",
          "data": {
            "image/jpeg": "[encoded data removed]",
            "text/plain": [
              "<IPython.core.display.Image object>"
            ]
          },
          "metadata": {
            "tags": []
          }
        },
        {
          "output_type": "display_data",
          "data": {
            "image/png": "[encoded data removed]",
            "text/plain": [
              "<IPython.core.display.Image object>"
            ]
          },
          "metadata": {
            "tags": []
          }
        }
      ]
    },
    {
      "metadata": {
        "id": "sjquoYC-r-qk",
        "colab_type": "code",
        "outputId": "6982a5dc-b47c-4f57-cbcc-2d7047ca12dc",
        "colab": {
          "base_uri": "https://localhost:8080/",
          "height": 34
        }
      },
      "cell_type": "code",
      "source": [
        "files[:5]"
      ],
      "execution_count": 0,
      "outputs": [
        {
          "output_type": "execute_result",
          "data": {
            "text/plain": [
              "['0fc376.jpg', '97700.jpg', '0854f0765.jpg', '1c96e8.jpg', 'de61a5c.jpg']"
            ]
          },
          "metadata": {
            "tags": []
          },
          "execution_count": 14
        }
      ]
    },
    {
      "metadata": {
        "id": "9Um9OPjY8zQU",
        "colab_type": "code",
        "colab": {}
      },
      "cell_type": "code",
      "source": [
        "from PIL import Image\n",
        "import pytesseract\n",
        "import argparse\n",
        "import cv2\n",
        "import os\n",
        "from IPython.display import Image as pyimg, display\n",
        "import matplotlib.pyplot as plt\n",
        "\n",
        "\n",
        "\n",
        "\n",
        "# construct the argument parse and parse the arguments\n",
        "\n",
        "def ocr():\n",
        "    ap = argparse.ArgumentParser()\n",
        "    ap.add_argument(\"-i\", \"--image\", required=True,\n",
        "      help=\"path to input image to be OCR'd\")\n",
        "    ap.add_argument(\"-p\", \"--preprocess\", type=str, default=\"thresh\",\n",
        "      help=\"type of preprocessing to be done\")\n",
        "    args = vars(ap.parse_args())"
      ],
      "execution_count": 0,
      "outputs": []
    },
    {
      "metadata": {
        "id": "BWXd87Uh7d-l",
        "colab_type": "code",
        "outputId": "993a8485-dfad-4ae6-c23c-be9a631de2e3",
        "colab": {
          "base_uri": "https://localhost:8080/",
          "height": 51
        }
      },
      "cell_type": "code",
      "source": [
        "\n",
        "# load the image as a PIL/Pillow image, apply OCR, and then delete\n",
        "# the temporary file\n",
        "image = Image.open('/content/clean_capchas/1.png')\n",
        "text = pytesseract.image_to_string(image)\n",
        "#os.remove(filename)\n",
        "print(text)\n",
        "print(image)\n",
        " \n",
        "# show the output images\n",
        "#cv2.imwrite(\"Image\", image)\n",
        "#display(pyimg(image))\n"
      ],
      "execution_count": 0,
      "outputs": [
        {
          "output_type": "stream",
          "text": [
            "\n",
            "<PIL.PngImagePlugin.PngImageFile image mode=L size=450x80 at 0x7FD3C4093550>\n"
          ],
          "name": "stdout"
        }
      ]
    },
    {
      "metadata": {
        "id": "39InPonK7eBS",
        "colab_type": "code",
        "outputId": "f54bdf25-865b-4535-dcbe-789b1c789d66",
        "colab": {
          "base_uri": "https://localhost:8080/",
          "height": 34
        }
      },
      "cell_type": "code",
      "source": [
        "# load the example image and convert it to grayscale\n",
        "image = cv2.imread('/content/clean_capchas/3.png')\n",
        "gray1 = cv2.cvtColor(image, cv2.COLOR_BGR2GRAY)\n",
        "gray2 = cv2.threshold(gray1, 0, 255,\n",
        "\t\tcv2.THRESH_BINARY | cv2.THRESH_OTSU)[1]\n",
        "gray = cv2.medianBlur(gray2, 5)\n",
        "text = pytesseract.image_to_string(gray)\n",
        "print(text)\n",
        "#gray3 = cv2.medianBlur(gray, 5)\n",
        "#cv2.imwrite(\"new_img.png\", gray)"
      ],
      "execution_count": 0,
      "outputs": [
        {
          "output_type": "stream",
          "text": [
            "O85 740/65\n"
          ],
          "name": "stdout"
        }
      ]
    },
    {
      "metadata": {
        "id": "VgzB-OiF7eOO",
        "colab_type": "code",
        "colab": {}
      },
      "cell_type": "code",
      "source": [
        "def deco(file_name):\n",
        "    display(pyimg(file_name))\n",
        "    image = cv2.imread(file_name)\n",
        "    gray1 = cv2.cvtColor(image, cv2.COLOR_BGR2GRAY)\n",
        "    gray2 = cv2.threshold(gray1, 0, 255,\n",
        "        cv2.THRESH_BINARY | cv2.THRESH_OTSU)[1]\n",
        "    gray = cv2.medianBlur(gray2, 9)\n",
        "    #gray3 = cv2.medianBlur(gray, 5)\n",
        "    #cv2.imwrite(\"new_img.png\", gray)\n",
        "\n",
        "\n",
        "    text = pytesseract.image_to_string(image)\n",
        "    #print(text)\n",
        "    text = pytesseract.image_to_string(gray1)\n",
        "    #print(text)\n",
        "    text = pytesseract.image_to_string(gray2)\n",
        "    #print(text)\n",
        "    text = pytesseract.image_to_string(gray)\n",
        "    print(text)\n",
        "    #text = pytesseract.image_to_string(gray3)\n",
        "    #print(text)"
      ],
      "execution_count": 0,
      "outputs": []
    },
    {
      "metadata": {
        "id": "fftvR-G0DUbr",
        "colab_type": "code",
        "outputId": "0c9560f1-7d80-4d14-add3-38fd9c39af7f",
        "colab": {
          "base_uri": "https://localhost:8080/",
          "height": 34
        }
      },
      "cell_type": "code",
      "source": [
        "!ls"
      ],
      "execution_count": 0,
      "outputs": [
        {
          "output_type": "stream",
          "text": [
            "captchas  clean_capchas  real_captchas.zip  sample_data\n"
          ],
          "name": "stdout"
        }
      ]
    },
    {
      "metadata": {
        "id": "Nou3oQc4AhhT",
        "colab_type": "code",
        "outputId": "2dbac25a-8931-4247-c906-957b225b3f80",
        "colab": {
          "base_uri": "https://localhost:8080/",
          "height": 34
        }
      },
      "cell_type": "code",
      "source": [
        "files = os.listdir('/content/clean_capchas')\n",
        "files[:5]\n"
      ],
      "execution_count": 0,
      "outputs": [
        {
          "output_type": "execute_result",
          "data": {
            "text/plain": [
              "['6.png', '1.png', '4.png', '5.png', '2.png']"
            ]
          },
          "metadata": {
            "tags": []
          },
          "execution_count": 20
        }
      ]
    },
    {
      "metadata": {
        "id": "wEAQGBoBC4ok",
        "colab_type": "code",
        "colab": {}
      },
      "cell_type": "code",
      "source": [
        "for f in files:\n",
        "  deco('/content/content/clean__edges_captchas/' + f)"
      ],
      "execution_count": 0,
      "outputs": []
    },
    {
      "metadata": {
        "id": "34kRhVBdC4jo",
        "colab_type": "code",
        "outputId": "f6b11356-250d-47e8-9a66-fc24c08afeb0",
        "colab": {
          "base_uri": "https://localhost:8080/",
          "height": 164
        }
      },
      "cell_type": "code",
      "source": [
        "os.listdir('/content/clean_captchas')"
      ],
      "execution_count": 0,
      "outputs": [
        {
          "output_type": "error",
          "ename": "FileNotFoundError",
          "evalue": "ignored",
          "traceback": [
            "\u001b[0;31m---------------------------------------------------------------------------\u001b[0m",
            "\u001b[0;31mFileNotFoundError\u001b[0m                         Traceback (most recent call last)",
            "\u001b[0;32m<ipython-input-24-7af4919b5078>\u001b[0m in \u001b[0;36m<module>\u001b[0;34m()\u001b[0m\n\u001b[0;32m----> 1\u001b[0;31m \u001b[0mos\u001b[0m\u001b[0;34m.\u001b[0m\u001b[0mlistdir\u001b[0m\u001b[0;34m(\u001b[0m\u001b[0;34m'/content/clean_captchas'\u001b[0m\u001b[0;34m)\u001b[0m\u001b[0;34m\u001b[0m\u001b[0;34m\u001b[0m\u001b[0m\n\u001b[0m",
            "\u001b[0;31mFileNotFoundError\u001b[0m: [Errno 2] No such file or directory: '/content/clean_captchas'"
          ]
        }
      ]
    },
    {
      "metadata": {
        "id": "BgyM9_GQVMEj",
        "colab_type": "code",
        "colab": {}
      },
      "cell_type": "code",
      "source": [
        ""
      ],
      "execution_count": 0,
      "outputs": []
    }
  ]
}