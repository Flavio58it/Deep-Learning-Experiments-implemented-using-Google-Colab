{
  "nbformat": 4,
  "nbformat_minor": 0,
  "metadata": {
    "colab": {
      "name": "Pandas_basics.ipynb",
      "provenance": [],
      "include_colab_link": true
    },
    "kernelspec": {
      "name": "python3",
      "display_name": "Python 3"
    },
    "accelerator": "GPU"
  },
  "cells": [
    {
      "cell_type": "markdown",
      "metadata": {
        "id": "view-in-github",
        "colab_type": "text"
      },
      "source": [
        "<a href=\"https://colab.research.google.com/github/navneetkrc/Colab_fastai/blob/master/Basics/Pandas_basics.ipynb\" target=\"_parent\"><img src=\"https://colab.research.google.com/assets/colab-badge.svg\" alt=\"Open In Colab\"/></a>"
      ]
    },
    {
      "cell_type": "markdown",
      "metadata": {
        "id": "BN5G4vJiZ5Y6",
        "colab_type": "text"
      },
      "source": [
        "Based on this Medium Article [Brief Pandas tour](https://towardsdatascience.com/a-brief-tour-of-pandas-9f10a8ce490a)   by Peirre"
      ]
    },
    {
      "cell_type": "code",
      "metadata": {
        "id": "eCaIQTImXp6c",
        "colab_type": "code",
        "colab": {}
      },
      "source": [
        "#Get the csv from github \n",
        "!wget https://github.com/navneetkrc/Colab_fastai/raw/master/Basics/aac_shelter_outcomes.csv"
      ],
      "execution_count": 0,
      "outputs": []
    },
    {
      "cell_type": "code",
      "metadata": {
        "id": "pcp3GWf4adWa",
        "colab_type": "code",
        "colab": {}
      },
      "source": [
        "import pandas as pd"
      ],
      "execution_count": 0,
      "outputs": []
    },
    {
      "cell_type": "code",
      "metadata": {
        "id": "uW6SXHTdatxT",
        "colab_type": "code",
        "colab": {
          "base_uri": "https://localhost:8080/",
          "height": 176
        },
        "outputId": "60c15a92-3a1f-49b4-f440-7a17fb4f3ae9"
      },
      "source": [
        "print(\"READING DATA\")\n",
        "df = pd.read_csv(\"aac_shelter_outcomes.csv\")\n",
        "print(df.head())"
      ],
      "execution_count": 3,
      "outputs": [
        {
          "output_type": "stream",
          "text": [
            "READING DATA\n",
            "  age_upon_outcome animal_id  ... outcome_type sex_upon_outcome\n",
            "0          2 weeks   A684346  ...     Transfer      Intact Male\n",
            "1           1 year   A666430  ...     Transfer    Spayed Female\n",
            "2           1 year   A675708  ...     Adoption    Neutered Male\n",
            "3          9 years   A680386  ...     Transfer    Neutered Male\n",
            "4         5 months   A683115  ...   Euthanasia          Unknown\n",
            "\n",
            "[5 rows x 12 columns]\n"
          ],
          "name": "stdout"
        }
      ]
    },
    {
      "cell_type": "code",
      "metadata": {
        "id": "t3l_egc6f-so",
        "colab_type": "code",
        "colab": {
          "base_uri": "https://localhost:8080/",
          "height": 158
        },
        "outputId": "27ef5192-cdba-49f5-a525-a00aa96205e5"
      },
      "source": [
        "print(df.tail())"
      ],
      "execution_count": 4,
      "outputs": [
        {
          "output_type": "stream",
          "text": [
            "      age_upon_outcome animal_id  ... outcome_type sex_upon_outcome\n",
            "78251          1 month   A764894  ...     Adoption    Spayed Female\n",
            "78252          3 years   A764468  ...     Adoption    Neutered Male\n",
            "78253              NaN   A766098  ...   Euthanasia          Unknown\n",
            "78254         2 months   A765858  ...     Adoption    Spayed Female\n",
            "78255         2 months   A765857  ...     Adoption    Neutered Male\n",
            "\n",
            "[5 rows x 12 columns]\n"
          ],
          "name": "stdout"
        }
      ]
    },
    {
      "cell_type": "code",
      "metadata": {
        "id": "cEpe6X2gf_9m",
        "colab_type": "code",
        "colab": {
          "base_uri": "https://localhost:8080/",
          "height": 105
        },
        "outputId": "93a0b056-6745-41de-a6ff-b6629ec9071b"
      },
      "source": [
        "print(df.columns)\n"
      ],
      "execution_count": 28,
      "outputs": [
        {
          "output_type": "stream",
          "text": [
            "Index(['age_upon_outcome', 'animal_id', 'animal_type', 'breed', 'color',\n",
            "       'date_of_birth', 'datetime', 'monthyear', 'name', 'outcome_subtype',\n",
            "       'outcome_type', 'sex_upon_outcome', 'week_of_birth', 'month_of_birth',\n",
            "       'year_of_birth'],\n",
            "      dtype='object')\n"
          ],
          "name": "stdout"
        }
      ]
    },
    {
      "cell_type": "code",
      "metadata": {
        "id": "cFaiJyugav2y",
        "colab_type": "code",
        "colab": {
          "base_uri": "https://localhost:8080/",
          "height": 265
        },
        "outputId": "f6127c1e-736e-4e57-97ef-48d2793fd51b"
      },
      "source": [
        "print(\"CLEANING DATA\")\n",
        "#df = pd.read_csv(\"aac_shelter_outcomes.csv\")\n",
        "print(df.isnull().sum())"
      ],
      "execution_count": 6,
      "outputs": [
        {
          "output_type": "stream",
          "text": [
            "CLEANING DATA\n",
            "age_upon_outcome        8\n",
            "animal_id               0\n",
            "animal_type             0\n",
            "breed                   0\n",
            "color                   0\n",
            "date_of_birth           0\n",
            "datetime                0\n",
            "monthyear               0\n",
            "name                23886\n",
            "outcome_subtype     42293\n",
            "outcome_type           12\n",
            "sex_upon_outcome        2\n",
            "dtype: int64\n"
          ],
          "name": "stdout"
        }
      ]
    },
    {
      "cell_type": "code",
      "metadata": {
        "id": "CU2YvV7EgNQ2",
        "colab_type": "code",
        "colab": {
          "base_uri": "https://localhost:8080/",
          "height": 52
        },
        "outputId": "c6dffe94-1c55-498e-8ce2-52cdbbd2c46e"
      },
      "source": [
        "print(\"Length Before:\", len(df))\n",
        "df.dropna(inplace=True)\n",
        "print(\"Length After:\", len(df))"
      ],
      "execution_count": 7,
      "outputs": [
        {
          "output_type": "stream",
          "text": [
            "Length Before: 78256\n",
            "Length After: 17699\n"
          ],
          "name": "stdout"
        }
      ]
    },
    {
      "cell_type": "code",
      "metadata": {
        "id": "kLja0RlNav7F",
        "colab_type": "code",
        "colab": {
          "base_uri": "https://localhost:8080/",
          "height": 52
        },
        "outputId": "f3958f1b-e0ae-4fff-ef89-0ea44b73ed61"
      },
      "source": [
        "df = pd.read_csv(\"aac_shelter_outcomes.csv\")\n",
        "print(\"Length Before:\", len(df))\n",
        "df.fillna(0, inplace=True)\n",
        "print(\"Length After:\", len(df))"
      ],
      "execution_count": 8,
      "outputs": [
        {
          "output_type": "stream",
          "text": [
            "Length Before: 78256\n",
            "Length After: 78256\n"
          ],
          "name": "stdout"
        }
      ]
    },
    {
      "cell_type": "code",
      "metadata": {
        "id": "UG9xRrjkawAz",
        "colab_type": "code",
        "colab": {
          "base_uri": "https://localhost:8080/",
          "height": 176
        },
        "outputId": "1a9a7dc2-9f82-43a9-9278-5972ad3bc81f"
      },
      "source": [
        "print(\"FILTERING DATA\")\n",
        "df1 = df[df['breed']== 'Mastiff Mix']\n",
        "df1 = df[df['sex_upon_outcome'] == 'Spayed Female']\n",
        "print(df.head())\n"
      ],
      "execution_count": 9,
      "outputs": [
        {
          "output_type": "stream",
          "text": [
            "FILTERING DATA\n",
            "  age_upon_outcome animal_id  ... outcome_type sex_upon_outcome\n",
            "0          2 weeks   A684346  ...     Transfer      Intact Male\n",
            "1           1 year   A666430  ...     Transfer    Spayed Female\n",
            "2           1 year   A675708  ...     Adoption    Neutered Male\n",
            "3          9 years   A680386  ...     Transfer    Neutered Male\n",
            "4         5 months   A683115  ...   Euthanasia          Unknown\n",
            "\n",
            "[5 rows x 12 columns]\n"
          ],
          "name": "stdout"
        }
      ]
    },
    {
      "cell_type": "code",
      "metadata": {
        "id": "nx9xqmtJawJJ",
        "colab_type": "code",
        "colab": {
          "base_uri": "https://localhost:8080/",
          "height": 158
        },
        "outputId": "06472400-73ce-4817-c767-a8fdad20f1cf"
      },
      "source": [
        "df['date_of_birth'] = pd.to_datetime(df['date_of_birth'])\n",
        "\n",
        "df['week_of_birth'] = df['date_of_birth'].dt.week\n",
        "df['month_of_birth'] = df['date_of_birth'].dt.month\n",
        "df['year_of_birth'] = df['date_of_birth'].dt.year\n",
        "print(df.head())"
      ],
      "execution_count": 10,
      "outputs": [
        {
          "output_type": "stream",
          "text": [
            "  age_upon_outcome animal_id  ... month_of_birth year_of_birth\n",
            "0          2 weeks   A684346  ...              7          2014\n",
            "1           1 year   A666430  ...             11          2012\n",
            "2           1 year   A675708  ...              3          2013\n",
            "3          9 years   A680386  ...              6          2005\n",
            "4         5 months   A683115  ...              1          2014\n",
            "\n",
            "[5 rows x 15 columns]\n"
          ],
          "name": "stdout"
        }
      ]
    },
    {
      "cell_type": "code",
      "metadata": {
        "id": "0hzkTitXawHy",
        "colab_type": "code",
        "colab": {
          "base_uri": "https://localhost:8080/",
          "height": 158
        },
        "outputId": "d93c6384-823a-48bb-c28d-98fbfdb90ff0"
      },
      "source": [
        "df1 = df[df['month_of_birth'] == 1]\n",
        "print(df1.head())"
      ],
      "execution_count": 11,
      "outputs": [
        {
          "output_type": "stream",
          "text": [
            "    age_upon_outcome animal_id  ... month_of_birth year_of_birth\n",
            "4           5 months   A683115  ...              1          2014\n",
            "70            1 year   A670066  ...              1          2013\n",
            "74           6 years   A670656  ...              1          2008\n",
            "104         2 months   A675362  ...              1          2014\n",
            "108          5 years   A670525  ...              1          2009\n",
            "\n",
            "[5 rows x 15 columns]\n"
          ],
          "name": "stdout"
        }
      ]
    },
    {
      "cell_type": "code",
      "metadata": {
        "id": "GxvWhv93awF0",
        "colab_type": "code",
        "colab": {
          "base_uri": "https://localhost:8080/",
          "height": 158
        },
        "outputId": "05723397-4e7a-487a-b92e-99708a1d6eaa"
      },
      "source": [
        "#df = pd.read_csv(\"aac_shelter_outcomes.csv\")\n",
        "\n",
        "df1 = df[df['month_of_birth'] == 1].reset_index()\n",
        "print(df1.head())"
      ],
      "execution_count": 12,
      "outputs": [
        {
          "output_type": "stream",
          "text": [
            "   index age_upon_outcome  ... month_of_birth year_of_birth\n",
            "0      4         5 months  ...              1          2014\n",
            "1     70           1 year  ...              1          2013\n",
            "2     74          6 years  ...              1          2008\n",
            "3    104         2 months  ...              1          2014\n",
            "4    108          5 years  ...              1          2009\n",
            "\n",
            "[5 rows x 16 columns]\n"
          ],
          "name": "stdout"
        }
      ]
    },
    {
      "cell_type": "code",
      "metadata": {
        "id": "-BrfYn7zgliR",
        "colab_type": "code",
        "colab": {
          "base_uri": "https://localhost:8080/",
          "height": 176
        },
        "outputId": "74c9ba6f-7afa-4fc9-a3d5-d6c568251973"
      },
      "source": [
        "df2 = df.set_index('month_of_birth')\n",
        "print(df2.head())"
      ],
      "execution_count": 13,
      "outputs": [
        {
          "output_type": "stream",
          "text": [
            "               age_upon_outcome animal_id  ... week_of_birth year_of_birth\n",
            "month_of_birth                             ...                            \n",
            "7                       2 weeks   A684346  ...            28          2014\n",
            "11                       1 year   A666430  ...            45          2012\n",
            "3                        1 year   A675708  ...            13          2013\n",
            "6                       9 years   A680386  ...            22          2005\n",
            "1                      5 months   A683115  ...             2          2014\n",
            "\n",
            "[5 rows x 14 columns]\n"
          ],
          "name": "stdout"
        }
      ]
    },
    {
      "cell_type": "code",
      "metadata": {
        "id": "5yJhIPMGhFYG",
        "colab_type": "code",
        "colab": {
          "base_uri": "https://localhost:8080/",
          "height": 158
        },
        "outputId": "290789b2-ee28-41c8-c45f-f1a736b3d02b"
      },
      "source": [
        "print(df.head())"
      ],
      "execution_count": 14,
      "outputs": [
        {
          "output_type": "stream",
          "text": [
            "  age_upon_outcome animal_id  ... month_of_birth year_of_birth\n",
            "0          2 weeks   A684346  ...              7          2014\n",
            "1           1 year   A666430  ...             11          2012\n",
            "2           1 year   A675708  ...              3          2013\n",
            "3          9 years   A680386  ...              6          2005\n",
            "4         5 months   A683115  ...              1          2014\n",
            "\n",
            "[5 rows x 15 columns]\n"
          ],
          "name": "stdout"
        }
      ]
    },
    {
      "cell_type": "code",
      "metadata": {
        "id": "6vVEhwa4hFjo",
        "colab_type": "code",
        "colab": {
          "base_uri": "https://localhost:8080/",
          "height": 318
        },
        "outputId": "98c1f0c4-ff48-4817-ce96-42ffeed54c7a"
      },
      "source": [
        "print(\"---------------------First---------------------\")\n",
        "print(df.iloc[0])"
      ],
      "execution_count": 15,
      "outputs": [
        {
          "output_type": "stream",
          "text": [
            "---------------------First---------------------\n",
            "age_upon_outcome                   2 weeks\n",
            "animal_id                          A684346\n",
            "animal_type                            Cat\n",
            "breed               Domestic Shorthair Mix\n",
            "color                         Orange Tabby\n",
            "date_of_birth          2014-07-07 00:00:00\n",
            "datetime               2014-07-22T16:04:00\n",
            "monthyear              2014-07-22T16:04:00\n",
            "name                                     0\n",
            "outcome_subtype                    Partner\n",
            "outcome_type                      Transfer\n",
            "sex_upon_outcome               Intact Male\n",
            "week_of_birth                           28\n",
            "month_of_birth                           7\n",
            "year_of_birth                         2014\n",
            "Name: 0, dtype: object\n"
          ],
          "name": "stdout"
        }
      ]
    },
    {
      "cell_type": "code",
      "metadata": {
        "id": "D8qvAR1dhFrm",
        "colab_type": "code",
        "colab": {
          "base_uri": "https://localhost:8080/",
          "height": 318
        },
        "outputId": "26b1b683-dc87-4696-f00c-812cedd01d24"
      },
      "source": [
        "print(\"---------------------Second---------------------\") \n",
        "print(df.iloc[1])"
      ],
      "execution_count": 16,
      "outputs": [
        {
          "output_type": "stream",
          "text": [
            "---------------------Second---------------------\n",
            "age_upon_outcome                 1 year\n",
            "animal_id                       A666430\n",
            "animal_type                         Dog\n",
            "breed                        Beagle Mix\n",
            "color                       White/Brown\n",
            "date_of_birth       2012-11-06 00:00:00\n",
            "datetime            2013-11-07T11:47:00\n",
            "monthyear           2013-11-07T11:47:00\n",
            "name                               Lucy\n",
            "outcome_subtype                 Partner\n",
            "outcome_type                   Transfer\n",
            "sex_upon_outcome          Spayed Female\n",
            "week_of_birth                        45\n",
            "month_of_birth                       11\n",
            "year_of_birth                      2012\n",
            "Name: 1, dtype: object\n"
          ],
          "name": "stdout"
        }
      ]
    },
    {
      "cell_type": "code",
      "metadata": {
        "id": "UGlBqVpVhg68",
        "colab_type": "code",
        "colab": {
          "base_uri": "https://localhost:8080/",
          "height": 318
        },
        "outputId": "40e8c7ac-59fd-495e-ba18-951aca599844"
      },
      "source": [
        "print(\"---------------------Last---------------------\")\n",
        "print(df.iloc[-1])"
      ],
      "execution_count": 17,
      "outputs": [
        {
          "output_type": "stream",
          "text": [
            "---------------------Last---------------------\n",
            "age_upon_outcome                  2 months\n",
            "animal_id                          A765857\n",
            "animal_type                            Dog\n",
            "breed               Labrador Retriever Mix\n",
            "color                          White/Brown\n",
            "date_of_birth          2017-11-13 00:00:00\n",
            "datetime               2018-02-01T18:44:00\n",
            "monthyear              2018-02-01T18:44:00\n",
            "name                                     0\n",
            "outcome_subtype                          0\n",
            "outcome_type                      Adoption\n",
            "sex_upon_outcome             Neutered Male\n",
            "week_of_birth                           46\n",
            "month_of_birth                          11\n",
            "year_of_birth                         2017\n",
            "Name: 78255, dtype: object\n"
          ],
          "name": "stdout"
        }
      ]
    },
    {
      "cell_type": "code",
      "metadata": {
        "id": "nwnPKniRhhBb",
        "colab_type": "code",
        "colab": {
          "base_uri": "https://localhost:8080/",
          "height": 52
        },
        "outputId": "2dbc7284-2705-4752-f9b0-d0682c145001"
      },
      "source": [
        "print(\"---------------------First---------------------\")\n",
        "print(df.loc[0, 'breed'])"
      ],
      "execution_count": 18,
      "outputs": [
        {
          "output_type": "stream",
          "text": [
            "---------------------First---------------------\n",
            "Domestic Shorthair Mix\n"
          ],
          "name": "stdout"
        }
      ]
    },
    {
      "cell_type": "code",
      "metadata": {
        "id": "FIFpK_NLhhFH",
        "colab_type": "code",
        "colab": {
          "base_uri": "https://localhost:8080/",
          "height": 52
        },
        "outputId": "c0f2f445-ae94-4509-fc51-40de33124078"
      },
      "source": [
        "print(\"---------------------Second---------------------\") \n",
        "print(df.loc[1, 'breed'])"
      ],
      "execution_count": 19,
      "outputs": [
        {
          "output_type": "stream",
          "text": [
            "---------------------Second---------------------\n",
            "Beagle Mix\n"
          ],
          "name": "stdout"
        }
      ]
    },
    {
      "cell_type": "code",
      "metadata": {
        "id": "PHhNOQIKhg_R",
        "colab_type": "code",
        "colab": {
          "base_uri": "https://localhost:8080/",
          "height": 123
        },
        "outputId": "51e94bf0-14bb-44be-ade6-1fc97e821b44"
      },
      "source": [
        "print(\"---------------------First---------------------\")\n",
        "print(df.loc[0:3, 'breed'])"
      ],
      "execution_count": 20,
      "outputs": [
        {
          "output_type": "stream",
          "text": [
            "---------------------First---------------------\n",
            "0     Domestic Shorthair Mix\n",
            "1                 Beagle Mix\n",
            "2                   Pit Bull\n",
            "3    Miniature Schnauzer Mix\n",
            "Name: breed, dtype: object\n"
          ],
          "name": "stdout"
        }
      ]
    },
    {
      "cell_type": "code",
      "metadata": {
        "id": "k7KUQbGEav_l",
        "colab_type": "code",
        "colab": {
          "base_uri": "https://localhost:8080/",
          "height": 123
        },
        "outputId": "58934bc7-dc52-4156-ad01-d5d0a7b192de"
      },
      "source": [
        "print(\"---------------------Second---------------------\") \n",
        "print(df.loc[3:6, 'breed'])\n"
      ],
      "execution_count": 21,
      "outputs": [
        {
          "output_type": "stream",
          "text": [
            "---------------------Second---------------------\n",
            "3    Miniature Schnauzer Mix\n",
            "4                    Bat Mix\n",
            "5             Leonberger Mix\n",
            "6               Squirrel Mix\n",
            "Name: breed, dtype: object\n"
          ],
          "name": "stdout"
        }
      ]
    },
    {
      "cell_type": "code",
      "metadata": {
        "id": "veWf1DrVcQt3",
        "colab_type": "code",
        "colab": {
          "base_uri": "https://localhost:8080/",
          "height": 176
        },
        "outputId": "b48a510f-81df-4c54-c28f-a305f021dcb4"
      },
      "source": [
        "print(len(df))\n",
        "print(df.head())"
      ],
      "execution_count": 22,
      "outputs": [
        {
          "output_type": "stream",
          "text": [
            "78256\n",
            "  age_upon_outcome animal_id  ... month_of_birth year_of_birth\n",
            "0          2 weeks   A684346  ...              7          2014\n",
            "1           1 year   A666430  ...             11          2012\n",
            "2           1 year   A675708  ...              3          2013\n",
            "3          9 years   A680386  ...              6          2005\n",
            "4         5 months   A683115  ...              1          2014\n",
            "\n",
            "[5 rows x 15 columns]\n"
          ],
          "name": "stdout"
        }
      ]
    },
    {
      "cell_type": "code",
      "metadata": {
        "id": "aE946Yt_abH7",
        "colab_type": "code",
        "colab": {
          "base_uri": "https://localhost:8080/",
          "height": 265
        },
        "outputId": "b89745ed-cf1e-40cf-c15b-363d26d93f3d"
      },
      "source": [
        "print(\"AGGREGRATING DATA\")\n",
        "\n",
        "#df = pd.read_csv(\"aac_shelter_outcomes.csv\")\n",
        "df1  = df.groupby(['year_of_birth', 'breed'])['breed'].count()\n",
        "print(df1)"
      ],
      "execution_count": 23,
      "outputs": [
        {
          "output_type": "stream",
          "text": [
            "AGGREGRATING DATA\n",
            "year_of_birth  breed                                \n",
            "1991           Cockatoo                                  1\n",
            "1992           Domestic Shorthair Mix                    1\n",
            "1993           Siamese Mix                               1\n",
            "1994           Domestic Medium Hair Mix                  2\n",
            "               Domestic Shorthair                        1\n",
            "                                                        ..\n",
            "2017           Wirehaired Pointing Griffon Mix           1\n",
            "               Yorkshire Terrier Mix                    32\n",
            "               Yorkshire Terrier/Bruss Griffon           1\n",
            "               Yorkshire Terrier/Chihuahua Shorthair     3\n",
            "               Yorkshire Terrier/Miniature Schnauzer     1\n",
            "Name: breed, Length: 6873, dtype: int64\n"
          ],
          "name": "stdout"
        }
      ]
    },
    {
      "cell_type": "code",
      "metadata": {
        "id": "_lJV1WXCilvv",
        "colab_type": "code",
        "colab": {
          "base_uri": "https://localhost:8080/",
          "height": 334
        },
        "outputId": "aa6cb3fa-c87c-4b69-b3e7-d4e1483773df"
      },
      "source": [
        "df.head()"
      ],
      "execution_count": 26,
      "outputs": [
        {
          "output_type": "execute_result",
          "data": {
            "text/html": [
              "<div>\n",
              "<style scoped>\n",
              "    .dataframe tbody tr th:only-of-type {\n",
              "        vertical-align: middle;\n",
              "    }\n",
              "\n",
              "    .dataframe tbody tr th {\n",
              "        vertical-align: top;\n",
              "    }\n",
              "\n",
              "    .dataframe thead th {\n",
              "        text-align: right;\n",
              "    }\n",
              "</style>\n",
              "<table border=\"1\" class=\"dataframe\">\n",
              "  <thead>\n",
              "    <tr style=\"text-align: right;\">\n",
              "      <th></th>\n",
              "      <th>age_upon_outcome</th>\n",
              "      <th>animal_id</th>\n",
              "      <th>animal_type</th>\n",
              "      <th>breed</th>\n",
              "      <th>color</th>\n",
              "      <th>date_of_birth</th>\n",
              "      <th>datetime</th>\n",
              "      <th>monthyear</th>\n",
              "      <th>name</th>\n",
              "      <th>outcome_subtype</th>\n",
              "      <th>outcome_type</th>\n",
              "      <th>sex_upon_outcome</th>\n",
              "      <th>week_of_birth</th>\n",
              "      <th>month_of_birth</th>\n",
              "      <th>year_of_birth</th>\n",
              "    </tr>\n",
              "  </thead>\n",
              "  <tbody>\n",
              "    <tr>\n",
              "      <th>0</th>\n",
              "      <td>2 weeks</td>\n",
              "      <td>A684346</td>\n",
              "      <td>Cat</td>\n",
              "      <td>Domestic Shorthair Mix</td>\n",
              "      <td>Orange Tabby</td>\n",
              "      <td>2014-07-07</td>\n",
              "      <td>2014-07-22T16:04:00</td>\n",
              "      <td>2014-07-22T16:04:00</td>\n",
              "      <td>0</td>\n",
              "      <td>Partner</td>\n",
              "      <td>Transfer</td>\n",
              "      <td>Intact Male</td>\n",
              "      <td>28</td>\n",
              "      <td>7</td>\n",
              "      <td>2014</td>\n",
              "    </tr>\n",
              "    <tr>\n",
              "      <th>1</th>\n",
              "      <td>1 year</td>\n",
              "      <td>A666430</td>\n",
              "      <td>Dog</td>\n",
              "      <td>Beagle Mix</td>\n",
              "      <td>White/Brown</td>\n",
              "      <td>2012-11-06</td>\n",
              "      <td>2013-11-07T11:47:00</td>\n",
              "      <td>2013-11-07T11:47:00</td>\n",
              "      <td>Lucy</td>\n",
              "      <td>Partner</td>\n",
              "      <td>Transfer</td>\n",
              "      <td>Spayed Female</td>\n",
              "      <td>45</td>\n",
              "      <td>11</td>\n",
              "      <td>2012</td>\n",
              "    </tr>\n",
              "    <tr>\n",
              "      <th>2</th>\n",
              "      <td>1 year</td>\n",
              "      <td>A675708</td>\n",
              "      <td>Dog</td>\n",
              "      <td>Pit Bull</td>\n",
              "      <td>Blue/White</td>\n",
              "      <td>2013-03-31</td>\n",
              "      <td>2014-06-03T14:20:00</td>\n",
              "      <td>2014-06-03T14:20:00</td>\n",
              "      <td>*Johnny</td>\n",
              "      <td>0</td>\n",
              "      <td>Adoption</td>\n",
              "      <td>Neutered Male</td>\n",
              "      <td>13</td>\n",
              "      <td>3</td>\n",
              "      <td>2013</td>\n",
              "    </tr>\n",
              "    <tr>\n",
              "      <th>3</th>\n",
              "      <td>9 years</td>\n",
              "      <td>A680386</td>\n",
              "      <td>Dog</td>\n",
              "      <td>Miniature Schnauzer Mix</td>\n",
              "      <td>White</td>\n",
              "      <td>2005-06-02</td>\n",
              "      <td>2014-06-15T15:50:00</td>\n",
              "      <td>2014-06-15T15:50:00</td>\n",
              "      <td>Monday</td>\n",
              "      <td>Partner</td>\n",
              "      <td>Transfer</td>\n",
              "      <td>Neutered Male</td>\n",
              "      <td>22</td>\n",
              "      <td>6</td>\n",
              "      <td>2005</td>\n",
              "    </tr>\n",
              "    <tr>\n",
              "      <th>4</th>\n",
              "      <td>5 months</td>\n",
              "      <td>A683115</td>\n",
              "      <td>Other</td>\n",
              "      <td>Bat Mix</td>\n",
              "      <td>Brown</td>\n",
              "      <td>2014-01-07</td>\n",
              "      <td>2014-07-07T14:04:00</td>\n",
              "      <td>2014-07-07T14:04:00</td>\n",
              "      <td>0</td>\n",
              "      <td>Rabies Risk</td>\n",
              "      <td>Euthanasia</td>\n",
              "      <td>Unknown</td>\n",
              "      <td>2</td>\n",
              "      <td>1</td>\n",
              "      <td>2014</td>\n",
              "    </tr>\n",
              "  </tbody>\n",
              "</table>\n",
              "</div>"
            ],
            "text/plain": [
              "  age_upon_outcome animal_id  ... month_of_birth year_of_birth\n",
              "0          2 weeks   A684346  ...              7          2014\n",
              "1           1 year   A666430  ...             11          2012\n",
              "2           1 year   A675708  ...              3          2013\n",
              "3          9 years   A680386  ...              6          2005\n",
              "4         5 months   A683115  ...              1          2014\n",
              "\n",
              "[5 rows x 15 columns]"
            ]
          },
          "metadata": {
            "tags": []
          },
          "execution_count": 26
        }
      ]
    },
    {
      "cell_type": "code",
      "metadata": {
        "id": "BVmGfam-bS8n",
        "colab_type": "code",
        "colab": {
          "base_uri": "https://localhost:8080/",
          "height": 34
        },
        "outputId": "299d4888-e131-483a-f607-702cb2b9fe2c"
      },
      "source": [
        "print(\"WRITING TO A FILE\")\n",
        "df.to_csv(\"new_name_of_file.csv\")"
      ],
      "execution_count": 25,
      "outputs": [
        {
          "output_type": "stream",
          "text": [
            "WRITING TO A FILE\n"
          ],
          "name": "stdout"
        }
      ]
    }
  ]
}