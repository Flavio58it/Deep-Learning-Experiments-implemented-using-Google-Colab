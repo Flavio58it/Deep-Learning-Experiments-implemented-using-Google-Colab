{
  "nbformat": 4,
  "nbformat_minor": 0,
  "metadata": {
    "colab": {
      "name": "Book Recommendation System_gilbert_tanner.ipynb",
      "version": "0.3.2",
      "provenance": [],
      "collapsed_sections": [],
      "toc_visible": true,
      "include_colab_link": true
    },
    "language_info": {
      "codemirror_mode": {
        "name": "ipython",
        "version": 3
      },
      "file_extension": ".py",
      "mimetype": "text/x-python",
      "name": "python",
      "nbconvert_exporter": "python",
      "pygments_lexer": "ipython3",
      "version": "3.6.8"
    },
    "kernelspec": {
      "name": "python3",
      "display_name": "Python 3"
    },
    "accelerator": "GPU"
  },
  "cells": [
    {
      "cell_type": "markdown",
      "metadata": {
        "id": "view-in-github",
        "colab_type": "text"
      },
      "source": [
        "<a href=\"https://colab.research.google.com/github/navneetkrc/Colab_fastai/blob/master/Colab_fastai/Recommender%20Systems/GoodBooks/Book_Recommendation_System_gilbert_tanner.ipynb\" target=\"_parent\"><img src=\"https://colab.research.google.com/assets/colab-badge.svg\" alt=\"Open In Colab\"/></a>"
      ]
    },
    {
      "cell_type": "markdown",
      "metadata": {
        "_uuid": "a336fb6ae5a3eb21f0e98bf9d067cd9e0a8edd67",
        "id": "IcXG0Dxi7Hoy",
        "colab_type": "text"
      },
      "source": [
        "# Book Recommendation System"
      ]
    },
    {
      "cell_type": "code",
      "metadata": {
        "_uuid": "88f96d2c8edbe7341969b4eade5e01b22808e926",
        "id": "4QyB45qa7Hoz",
        "colab_type": "code",
        "colab": {}
      },
      "source": [
        "from fastai.collab import *"
      ],
      "execution_count": 0,
      "outputs": []
    },
    {
      "cell_type": "code",
      "metadata": {
        "_uuid": "995f0d3f2b67ae1d5be4a4b3c76a1d6321d56102",
        "id": "v2KprEB17Ho3",
        "colab_type": "code",
        "outputId": "4bba886a-2a43-4216-e617-9299e6476447",
        "colab": {
          "base_uri": "https://localhost:8080/",
          "height": 34
        }
      },
      "source": [
        "!ls"
      ],
      "execution_count": 4,
      "outputs": [
        {
          "output_type": "stream",
          "text": [
            "books.csv  ratings.csv\tsample_data\n"
          ],
          "name": "stdout"
        }
      ]
    },
    {
      "cell_type": "code",
      "metadata": {
        "_uuid": "9e896d4d428d22aca0fd0da01fd2669e3baa349f",
        "id": "qB1woPQU7Ho7",
        "colab_type": "code",
        "outputId": "c035a0c0-181b-42d7-c85b-a62d9f5e39ec",
        "colab": {
          "base_uri": "https://localhost:8080/",
          "height": 204
        }
      },
      "source": [
        "ratings = pd.read_csv('ratings.csv')\n",
        "ratings.head()"
      ],
      "execution_count": 7,
      "outputs": [
        {
          "output_type": "execute_result",
          "data": {
            "text/html": [
              "<div>\n",
              "<style scoped>\n",
              "    .dataframe tbody tr th:only-of-type {\n",
              "        vertical-align: middle;\n",
              "    }\n",
              "\n",
              "    .dataframe tbody tr th {\n",
              "        vertical-align: top;\n",
              "    }\n",
              "\n",
              "    .dataframe thead th {\n",
              "        text-align: right;\n",
              "    }\n",
              "</style>\n",
              "<table border=\"1\" class=\"dataframe\">\n",
              "  <thead>\n",
              "    <tr style=\"text-align: right;\">\n",
              "      <th></th>\n",
              "      <th>book_id</th>\n",
              "      <th>user_id</th>\n",
              "      <th>rating</th>\n",
              "    </tr>\n",
              "  </thead>\n",
              "  <tbody>\n",
              "    <tr>\n",
              "      <th>0</th>\n",
              "      <td>1</td>\n",
              "      <td>314</td>\n",
              "      <td>5</td>\n",
              "    </tr>\n",
              "    <tr>\n",
              "      <th>1</th>\n",
              "      <td>1</td>\n",
              "      <td>439</td>\n",
              "      <td>3</td>\n",
              "    </tr>\n",
              "    <tr>\n",
              "      <th>2</th>\n",
              "      <td>1</td>\n",
              "      <td>588</td>\n",
              "      <td>5</td>\n",
              "    </tr>\n",
              "    <tr>\n",
              "      <th>3</th>\n",
              "      <td>1</td>\n",
              "      <td>1169</td>\n",
              "      <td>4</td>\n",
              "    </tr>\n",
              "    <tr>\n",
              "      <th>4</th>\n",
              "      <td>1</td>\n",
              "      <td>1185</td>\n",
              "      <td>4</td>\n",
              "    </tr>\n",
              "  </tbody>\n",
              "</table>\n",
              "</div>"
            ],
            "text/plain": [
              "   book_id  user_id  rating\n",
              "0        1      314       5\n",
              "1        1      439       3\n",
              "2        1      588       5\n",
              "3        1     1169       4\n",
              "4        1     1185       4"
            ]
          },
          "metadata": {
            "tags": []
          },
          "execution_count": 7
        }
      ]
    },
    {
      "cell_type": "code",
      "metadata": {
        "_uuid": "ddd31f28f2060bf474893212b3ec6b55062334cc",
        "id": "_QA_7cE17HpB",
        "colab_type": "code",
        "colab": {}
      },
      "source": [
        "data = CollabDataBunch.from_df(ratings, seed=42, valid_pct=0.1, user_name='user_id', item_name='book_id', rating_name='rating')"
      ],
      "execution_count": 0,
      "outputs": []
    },
    {
      "cell_type": "code",
      "metadata": {
        "_uuid": "bb5161f0387bae2ce3b9c59da8f54346c5159cfa",
        "id": "6789kQUc7HpE",
        "colab_type": "code",
        "outputId": "55c6812b-d161-4b03-d3eb-c6a5006661f2",
        "colab": {
          "base_uri": "https://localhost:8080/",
          "height": 204
        }
      },
      "source": [
        "data.show_batch()"
      ],
      "execution_count": 9,
      "outputs": [
        {
          "output_type": "display_data",
          "data": {
            "text/html": [
              "<table border=\"1\" class=\"dataframe\">\n",
              "  <thead>\n",
              "    <tr style=\"text-align: right;\">\n",
              "      <th>user_id</th>\n",
              "      <th>book_id</th>\n",
              "      <th>target</th>\n",
              "    </tr>\n",
              "  </thead>\n",
              "  <tbody>\n",
              "    <tr>\n",
              "      <td>3598</td>\n",
              "      <td>3788</td>\n",
              "      <td>5.0</td>\n",
              "    </tr>\n",
              "    <tr>\n",
              "      <td>34966</td>\n",
              "      <td>9155</td>\n",
              "      <td>3.0</td>\n",
              "    </tr>\n",
              "    <tr>\n",
              "      <td>25012</td>\n",
              "      <td>8231</td>\n",
              "      <td>4.0</td>\n",
              "    </tr>\n",
              "    <tr>\n",
              "      <td>42659</td>\n",
              "      <td>3004</td>\n",
              "      <td>3.0</td>\n",
              "    </tr>\n",
              "    <tr>\n",
              "      <td>26786</td>\n",
              "      <td>4308</td>\n",
              "      <td>4.0</td>\n",
              "    </tr>\n",
              "  </tbody>\n",
              "</table>"
            ],
            "text/plain": [
              "<IPython.core.display.HTML object>"
            ]
          },
          "metadata": {
            "tags": []
          }
        }
      ]
    },
    {
      "cell_type": "code",
      "metadata": {
        "_uuid": "082dea4c28bb16e2e249f967520ff7ac0e6de21d",
        "id": "5Fm1Vog87HpH",
        "colab_type": "code",
        "outputId": "81f88518-58aa-413e-ce7c-4a4898e07436",
        "colab": {
          "base_uri": "https://localhost:8080/",
          "height": 34
        }
      },
      "source": [
        "ratings.rating.min(), ratings.rating.max()"
      ],
      "execution_count": 10,
      "outputs": [
        {
          "output_type": "execute_result",
          "data": {
            "text/plain": [
              "(1, 5)"
            ]
          },
          "metadata": {
            "tags": []
          },
          "execution_count": 10
        }
      ]
    },
    {
      "cell_type": "markdown",
      "metadata": {
        "_uuid": "1be0675a845a48346536718a10c70066335eb632",
        "id": "_wOcF1kJ7HpK",
        "colab_type": "text"
      },
      "source": [
        "## EmbeddingDotBias Model"
      ]
    },
    {
      "cell_type": "code",
      "metadata": {
        "_uuid": "586efd6475cb2b5e677fad8bc3898ff3d075b187",
        "id": "8yAnHj7m7HpK",
        "colab_type": "code",
        "colab": {}
      },
      "source": [
        "learn = collab_learner(data, n_factors=40, y_range=(1, 5), wd=1e-1, model_dir=\"/tmp/model/\", path=\"/tmp/\")"
      ],
      "execution_count": 0,
      "outputs": []
    },
    {
      "cell_type": "code",
      "metadata": {
        "_uuid": "c9e35e23aea91cd6bdc8ae061e4638eba70aac71",
        "id": "oaC1UVhX7HpM",
        "colab_type": "code",
        "outputId": "9bafb32c-ea5f-4082-9af5-d8ce9fea1b55",
        "colab": {
          "base_uri": "https://localhost:8080/",
          "height": 391
        }
      },
      "source": [
        "print(learn.summary())\n",
        "# This gives us User Embeddings, Item EMbeddings, User Bias, and Item Bias"
      ],
      "execution_count": 18,
      "outputs": [
        {
          "output_type": "stream",
          "text": [
            "EmbeddingDotBias\n",
            "======================================================================\n",
            "Layer (type)         Output Shape         Param #    Trainable \n",
            "======================================================================\n",
            "Embedding            [40]                 2,134,040  True      \n",
            "______________________________________________________________________\n",
            "Embedding            [40]                 400,040    True      \n",
            "______________________________________________________________________\n",
            "Embedding            [1]                  53,351     True      \n",
            "______________________________________________________________________\n",
            "Embedding            [1]                  10,001     True      \n",
            "______________________________________________________________________\n",
            "\n",
            "Total params: 2,597,432\n",
            "Total trainable params: 2,597,432\n",
            "Total non-trainable params: 0\n",
            "Optimized with 'torch.optim.adam.Adam', betas=(0.9, 0.99)\n",
            "Using true weight decay as discussed in https://www.fast.ai/2018/07/02/adam-weight-decay/ \n",
            "Loss function : FlattenedLoss\n",
            "======================================================================\n",
            "Callbacks functions applied \n",
            "\n"
          ],
          "name": "stdout"
        }
      ]
    },
    {
      "cell_type": "code",
      "metadata": {
        "_uuid": "e921c5eba6ede1a03c533be762d2387cfdf09f9d",
        "id": "HcC2cu__7HpQ",
        "colab_type": "code",
        "outputId": "8c0a5de6-076f-491d-b7e6-e6efd5155462",
        "colab": {
          "base_uri": "https://localhost:8080/",
          "height": 300
        }
      },
      "source": [
        "learn.lr_find()\n",
        "learn.recorder.plot()"
      ],
      "execution_count": 19,
      "outputs": [
        {
          "output_type": "display_data",
          "data": {
            "text/html": [
              ""
            ],
            "text/plain": [
              "<IPython.core.display.HTML object>"
            ]
          },
          "metadata": {
            "tags": []
          }
        },
        {
          "output_type": "stream",
          "text": [
            "LR Finder is complete, type {learner_name}.recorder.plot() to see the graph.\n"
          ],
          "name": "stdout"
        },
        {
          "output_type": "display_data",
          "data": {
            "image/png": "[encoded data removed]",
            "text/plain": [
              "<Figure size 432x288 with 1 Axes>"
            ]
          },
          "metadata": {
            "tags": []
          }
        }
      ]
    },
    {
      "cell_type": "code",
      "metadata": {
        "_uuid": "b2bbaa618dcfb47e2150c99271e819ee9e6374b2",
        "id": "F6Wz2u6c7HpU",
        "colab_type": "code",
        "outputId": "0d1c8efd-d0ae-42bd-c816-4cba554b3865",
        "colab": {
          "base_uri": "https://localhost:8080/",
          "height": 204
        }
      },
      "source": [
        "learn.fit_one_cycle(5, 3e-4)"
      ],
      "execution_count": 20,
      "outputs": [
        {
          "output_type": "display_data",
          "data": {
            "text/html": [
              "<table border=\"1\" class=\"dataframe\">\n",
              "  <thead>\n",
              "    <tr style=\"text-align: left;\">\n",
              "      <th>epoch</th>\n",
              "      <th>train_loss</th>\n",
              "      <th>valid_loss</th>\n",
              "      <th>time</th>\n",
              "    </tr>\n",
              "  </thead>\n",
              "  <tbody>\n",
              "    <tr>\n",
              "      <td>0</td>\n",
              "      <td>1.632417</td>\n",
              "      <td>1.588838</td>\n",
              "      <td>01:25</td>\n",
              "    </tr>\n",
              "    <tr>\n",
              "      <td>1</td>\n",
              "      <td>1.318440</td>\n",
              "      <td>1.312134</td>\n",
              "      <td>01:25</td>\n",
              "    </tr>\n",
              "    <tr>\n",
              "      <td>2</td>\n",
              "      <td>1.122499</td>\n",
              "      <td>1.120099</td>\n",
              "      <td>01:26</td>\n",
              "    </tr>\n",
              "    <tr>\n",
              "      <td>3</td>\n",
              "      <td>1.029103</td>\n",
              "      <td>1.054762</td>\n",
              "      <td>01:28</td>\n",
              "    </tr>\n",
              "    <tr>\n",
              "      <td>4</td>\n",
              "      <td>1.000295</td>\n",
              "      <td>1.045265</td>\n",
              "      <td>01:26</td>\n",
              "    </tr>\n",
              "  </tbody>\n",
              "</table>"
            ],
            "text/plain": [
              "<IPython.core.display.HTML object>"
            ]
          },
          "metadata": {
            "tags": []
          }
        }
      ]
    },
    {
      "cell_type": "code",
      "metadata": {
        "_uuid": "1f572c23e9c42b6ad28b2b1dd7828ec0dad0d3c0",
        "id": "KA5XwGjv7HpY",
        "colab_type": "code",
        "colab": {}
      },
      "source": [
        "learn.save('goodbooks-dot-1')"
      ],
      "execution_count": 0,
      "outputs": []
    },
    {
      "cell_type": "markdown",
      "metadata": {
        "_uuid": "2d16aa90a97b8df051e16f2455213d2928fc0d14",
        "id": "3YZyE6ty7Hpa",
        "colab_type": "text"
      },
      "source": [
        "## EmbeddingNN Model"
      ]
    },
    {
      "cell_type": "code",
      "metadata": {
        "_uuid": "692ca1e9c9e6957a0c420dc06c7839fe47e6dce5",
        "id": "bbCvTOb17Hpb",
        "colab_type": "code",
        "colab": {}
      },
      "source": [
        "learn = collab_learner(data, use_nn=True, emb_szs={'user_id': 40, 'book_id':40}, layers=[256, 128], y_range=(1, 5))"
      ],
      "execution_count": 0,
      "outputs": []
    },
    {
      "cell_type": "code",
      "metadata": {
        "_uuid": "2e2f6412887e377d3935b1703f8d803f03a04796",
        "id": "BOjAAY-57Hpd",
        "colab_type": "code",
        "outputId": "416ecc58-389c-4be1-ea19-1b7a131c851e",
        "colab": {
          "base_uri": "https://localhost:8080/",
          "height": 300
        }
      },
      "source": [
        "learn.lr_find()\n",
        "learn.recorder.plot()"
      ],
      "execution_count": 28,
      "outputs": [
        {
          "output_type": "display_data",
          "data": {
            "text/html": [
              ""
            ],
            "text/plain": [
              "<IPython.core.display.HTML object>"
            ]
          },
          "metadata": {
            "tags": []
          }
        },
        {
          "output_type": "stream",
          "text": [
            "LR Finder is complete, type {learner_name}.recorder.plot() to see the graph.\n"
          ],
          "name": "stdout"
        },
        {
          "output_type": "display_data",
          "data": {
            "image/png": "[encoded data removed]",
            "text/plain": [
              "<Figure size 432x288 with 1 Axes>"
            ]
          },
          "metadata": {
            "tags": []
          }
        }
      ]
    },
    {
      "cell_type": "code",
      "metadata": {
        "_uuid": "26a3e26aec670ae6efd27ba18c813ef65c884558",
        "id": "iIK-bfIg7Hpi",
        "colab_type": "code",
        "colab": {}
      },
      "source": [
        "learn.fit_one_cycle(5, 1e-2)"
      ],
      "execution_count": 0,
      "outputs": []
    },
    {
      "cell_type": "code",
      "metadata": {
        "_uuid": "eb81cfc16cb5da65781ce0bbedaacdebd27788d3",
        "id": "VXU32qQX7Hpl",
        "colab_type": "code",
        "colab": {}
      },
      "source": [
        "learn.save('goodbooks-nn-1')"
      ],
      "execution_count": 0,
      "outputs": []
    },
    {
      "cell_type": "markdown",
      "metadata": {
        "_uuid": "75e8930f18401e2fd7ac8ebe2b52dd354f643fad",
        "id": "QUB3Ik2t7Hpo",
        "colab_type": "text"
      },
      "source": [
        "## Interpretation"
      ]
    },
    {
      "cell_type": "code",
      "metadata": {
        "_uuid": "4bc85cecb1fff002a74f874cc8e86ed33d46c770",
        "id": "MPDbYSHp7Hpo",
        "colab_type": "code",
        "colab": {}
      },
      "source": [
        "learn = collab_learner(data, n_factors=40, y_range=(1, 5), wd=1e-1, model_dir=\"/tmp/model/\", path=\"/tmp/\")\n",
        "learn.load('goodbooks-dot-1');"
      ],
      "execution_count": 0,
      "outputs": []
    },
    {
      "cell_type": "code",
      "metadata": {
        "_uuid": "f92e25f9db1d6937995b14a94e365fb5f9f9dd36",
        "id": "7_apw4Gs7Hps",
        "colab_type": "code",
        "outputId": "8b765638-511f-40e4-e514-0af5161bedb1",
        "colab": {
          "base_uri": "https://localhost:8080/",
          "height": 428
        }
      },
      "source": [
        "books = pd.read_csv('books.csv')\n",
        "books.head()"
      ],
      "execution_count": 31,
      "outputs": [
        {
          "output_type": "execute_result",
          "data": {
            "text/html": [
              "<div>\n",
              "<style scoped>\n",
              "    .dataframe tbody tr th:only-of-type {\n",
              "        vertical-align: middle;\n",
              "    }\n",
              "\n",
              "    .dataframe tbody tr th {\n",
              "        vertical-align: top;\n",
              "    }\n",
              "\n",
              "    .dataframe thead th {\n",
              "        text-align: right;\n",
              "    }\n",
              "</style>\n",
              "<table border=\"1\" class=\"dataframe\">\n",
              "  <thead>\n",
              "    <tr style=\"text-align: right;\">\n",
              "      <th></th>\n",
              "      <th>id</th>\n",
              "      <th>book_id</th>\n",
              "      <th>best_book_id</th>\n",
              "      <th>work_id</th>\n",
              "      <th>books_count</th>\n",
              "      <th>isbn</th>\n",
              "      <th>isbn13</th>\n",
              "      <th>authors</th>\n",
              "      <th>original_publication_year</th>\n",
              "      <th>original_title</th>\n",
              "      <th>title</th>\n",
              "      <th>language_code</th>\n",
              "      <th>average_rating</th>\n",
              "      <th>ratings_count</th>\n",
              "      <th>work_ratings_count</th>\n",
              "      <th>work_text_reviews_count</th>\n",
              "      <th>ratings_1</th>\n",
              "      <th>ratings_2</th>\n",
              "      <th>ratings_3</th>\n",
              "      <th>ratings_4</th>\n",
              "      <th>ratings_5</th>\n",
              "      <th>image_url</th>\n",
              "      <th>small_image_url</th>\n",
              "    </tr>\n",
              "  </thead>\n",
              "  <tbody>\n",
              "    <tr>\n",
              "      <th>0</th>\n",
              "      <td>1</td>\n",
              "      <td>2767052</td>\n",
              "      <td>2767052</td>\n",
              "      <td>2792775</td>\n",
              "      <td>272</td>\n",
              "      <td>439023483</td>\n",
              "      <td>9.780439e+12</td>\n",
              "      <td>Suzanne Collins</td>\n",
              "      <td>2008.0</td>\n",
              "      <td>The Hunger Games</td>\n",
              "      <td>The Hunger Games (The Hunger Games, #1)</td>\n",
              "      <td>eng</td>\n",
              "      <td>4.34</td>\n",
              "      <td>4780653</td>\n",
              "      <td>4942365</td>\n",
              "      <td>155254</td>\n",
              "      <td>66715</td>\n",
              "      <td>127936</td>\n",
              "      <td>560092</td>\n",
              "      <td>1481305</td>\n",
              "      <td>2706317</td>\n",
              "      <td>https://images.gr-assets.com/books/1447303603m...</td>\n",
              "      <td>https://images.gr-assets.com/books/1447303603s...</td>\n",
              "    </tr>\n",
              "    <tr>\n",
              "      <th>1</th>\n",
              "      <td>2</td>\n",
              "      <td>3</td>\n",
              "      <td>3</td>\n",
              "      <td>4640799</td>\n",
              "      <td>491</td>\n",
              "      <td>439554934</td>\n",
              "      <td>9.780440e+12</td>\n",
              "      <td>J.K. Rowling, Mary GrandPré</td>\n",
              "      <td>1997.0</td>\n",
              "      <td>Harry Potter and the Philosopher's Stone</td>\n",
              "      <td>Harry Potter and the Sorcerer's Stone (Harry P...</td>\n",
              "      <td>eng</td>\n",
              "      <td>4.44</td>\n",
              "      <td>4602479</td>\n",
              "      <td>4800065</td>\n",
              "      <td>75867</td>\n",
              "      <td>75504</td>\n",
              "      <td>101676</td>\n",
              "      <td>455024</td>\n",
              "      <td>1156318</td>\n",
              "      <td>3011543</td>\n",
              "      <td>https://images.gr-assets.com/books/1474154022m...</td>\n",
              "      <td>https://images.gr-assets.com/books/1474154022s...</td>\n",
              "    </tr>\n",
              "    <tr>\n",
              "      <th>2</th>\n",
              "      <td>3</td>\n",
              "      <td>41865</td>\n",
              "      <td>41865</td>\n",
              "      <td>3212258</td>\n",
              "      <td>226</td>\n",
              "      <td>316015849</td>\n",
              "      <td>9.780316e+12</td>\n",
              "      <td>Stephenie Meyer</td>\n",
              "      <td>2005.0</td>\n",
              "      <td>Twilight</td>\n",
              "      <td>Twilight (Twilight, #1)</td>\n",
              "      <td>en-US</td>\n",
              "      <td>3.57</td>\n",
              "      <td>3866839</td>\n",
              "      <td>3916824</td>\n",
              "      <td>95009</td>\n",
              "      <td>456191</td>\n",
              "      <td>436802</td>\n",
              "      <td>793319</td>\n",
              "      <td>875073</td>\n",
              "      <td>1355439</td>\n",
              "      <td>https://images.gr-assets.com/books/1361039443m...</td>\n",
              "      <td>https://images.gr-assets.com/books/1361039443s...</td>\n",
              "    </tr>\n",
              "    <tr>\n",
              "      <th>3</th>\n",
              "      <td>4</td>\n",
              "      <td>2657</td>\n",
              "      <td>2657</td>\n",
              "      <td>3275794</td>\n",
              "      <td>487</td>\n",
              "      <td>61120081</td>\n",
              "      <td>9.780061e+12</td>\n",
              "      <td>Harper Lee</td>\n",
              "      <td>1960.0</td>\n",
              "      <td>To Kill a Mockingbird</td>\n",
              "      <td>To Kill a Mockingbird</td>\n",
              "      <td>eng</td>\n",
              "      <td>4.25</td>\n",
              "      <td>3198671</td>\n",
              "      <td>3340896</td>\n",
              "      <td>72586</td>\n",
              "      <td>60427</td>\n",
              "      <td>117415</td>\n",
              "      <td>446835</td>\n",
              "      <td>1001952</td>\n",
              "      <td>1714267</td>\n",
              "      <td>https://images.gr-assets.com/books/1361975680m...</td>\n",
              "      <td>https://images.gr-assets.com/books/1361975680s...</td>\n",
              "    </tr>\n",
              "    <tr>\n",
              "      <th>4</th>\n",
              "      <td>5</td>\n",
              "      <td>4671</td>\n",
              "      <td>4671</td>\n",
              "      <td>245494</td>\n",
              "      <td>1356</td>\n",
              "      <td>743273567</td>\n",
              "      <td>9.780743e+12</td>\n",
              "      <td>F. Scott Fitzgerald</td>\n",
              "      <td>1925.0</td>\n",
              "      <td>The Great Gatsby</td>\n",
              "      <td>The Great Gatsby</td>\n",
              "      <td>eng</td>\n",
              "      <td>3.89</td>\n",
              "      <td>2683664</td>\n",
              "      <td>2773745</td>\n",
              "      <td>51992</td>\n",
              "      <td>86236</td>\n",
              "      <td>197621</td>\n",
              "      <td>606158</td>\n",
              "      <td>936012</td>\n",
              "      <td>947718</td>\n",
              "      <td>https://images.gr-assets.com/books/1490528560m...</td>\n",
              "      <td>https://images.gr-assets.com/books/1490528560s...</td>\n",
              "    </tr>\n",
              "  </tbody>\n",
              "</table>\n",
              "</div>"
            ],
            "text/plain": [
              "   id  ...                                    small_image_url\n",
              "0   1  ...  https://images.gr-assets.com/books/1447303603s...\n",
              "1   2  ...  https://images.gr-assets.com/books/1474154022s...\n",
              "2   3  ...  https://images.gr-assets.com/books/1361039443s...\n",
              "3   4  ...  https://images.gr-assets.com/books/1361975680s...\n",
              "4   5  ...  https://images.gr-assets.com/books/1490528560s...\n",
              "\n",
              "[5 rows x 23 columns]"
            ]
          },
          "metadata": {
            "tags": []
          },
          "execution_count": 31
        }
      ]
    },
    {
      "cell_type": "code",
      "metadata": {
        "_uuid": "e3e0b59db71e119646cc4adc6b6f00913519d25c",
        "id": "UqidVQJY7Hpx",
        "colab_type": "code",
        "outputId": "940c4d1c-2765-40a1-80c0-31aeac4512ee",
        "colab": {
          "base_uri": "https://localhost:8080/",
          "height": 34
        }
      },
      "source": [
        "g = ratings.groupby('book_id')['rating'].count()\n",
        "top_books = g.sort_values(ascending=False).index.values[:1000]\n",
        "top_books = top_books.astype(str)\n",
        "top_books[:10]"
      ],
      "execution_count": 34,
      "outputs": [
        {
          "output_type": "execute_result",
          "data": {
            "text/plain": [
              "array(['5000', '3315', '3313', '3312', '3311', '3309', '3308', '3307', '3306', '3304'], dtype='<U21')"
            ]
          },
          "metadata": {
            "tags": []
          },
          "execution_count": 34
        }
      ]
    },
    {
      "cell_type": "code",
      "metadata": {
        "id": "7jAOMNNBdDV6",
        "colab_type": "code",
        "colab": {}
      },
      "source": [
        "g = ratings.groupby('book_id')['rating'].count()\n",
        "g"
      ],
      "execution_count": 0,
      "outputs": []
    },
    {
      "cell_type": "code",
      "metadata": {
        "id": "eF_tRYEXchr0",
        "colab_type": "code",
        "colab": {
          "base_uri": "https://localhost:8080/",
          "height": 68
        },
        "outputId": "5a7027de-acae-4027-b0a4-05a2742fa2a3"
      },
      "source": [
        "# create array containing the names of the top books\n",
        "top_books_with_name = []\n",
        "for book in top_books:\n",
        "    top_books_with_name.append(books[(books['id']==int(book))]['title'].iloc[0])\n",
        "top_books_with_name = np.array(top_books_with_name)\n",
        "top_books_with_name"
      ],
      "execution_count": 43,
      "outputs": [
        {
          "output_type": "execute_result",
          "data": {
            "text/plain": [
              "array(['Passion Unleashed (Demonica #3)', 'My Story', 'The Gargoyle', 'Pretty Baby', ...,\n",
              "       'Top Secret Twenty-One (Stephanie Plum, #21)', 'The Warrior Heir (The Heir Chronicles, #1)', 'Stone Soup',\n",
              "       'The Sixth Man (Sean King & Michelle Maxwell, #5)'], dtype='<U144')"
            ]
          },
          "metadata": {
            "tags": []
          },
          "execution_count": 43
        }
      ]
    },
    {
      "cell_type": "markdown",
      "metadata": {
        "_uuid": "e20eefd2a5ac29a8145c3c4f298a3b3222066f94",
        "id": "6Ew6jTJs7Hp7",
        "colab_type": "text"
      },
      "source": [
        "## Book Bias"
      ]
    },
    {
      "cell_type": "code",
      "metadata": {
        "_uuid": "e9ef5dbcf4f2f7b697ee20f366d89b46d43316d3",
        "id": "AkrrUtz37Hp8",
        "colab_type": "code",
        "outputId": "e13ad17c-35c5-4df6-f236-731347f6ede4",
        "colab": {
          "base_uri": "https://localhost:8080/",
          "height": 119
        }
      },
      "source": [
        "learn.model"
      ],
      "execution_count": 44,
      "outputs": [
        {
          "output_type": "execute_result",
          "data": {
            "text/plain": [
              "EmbeddingDotBias(\n",
              "  (u_weight): Embedding(53351, 40)\n",
              "  (i_weight): Embedding(10001, 40)\n",
              "  (u_bias): Embedding(53351, 1)\n",
              "  (i_bias): Embedding(10001, 1)\n",
              ")"
            ]
          },
          "metadata": {
            "tags": []
          },
          "execution_count": 44
        }
      ]
    },
    {
      "cell_type": "code",
      "metadata": {
        "_uuid": "4234db58aa944ca8bfbe3d3f7cd7c3caa108866c",
        "id": "2rKQRNqc7HqA",
        "colab_type": "code",
        "colab": {}
      },
      "source": [
        "book_bias = learn.bias(top_books, is_item=True)"
      ],
      "execution_count": 0,
      "outputs": []
    },
    {
      "cell_type": "code",
      "metadata": {
        "_uuid": "d3243def55595325e969aee176cda3b47ab45a5c",
        "id": "Q2kF406F7HqC",
        "colab_type": "code",
        "colab": {}
      },
      "source": [
        "mean_ratings = ratings.groupby('book_id')['rating'].mean()\n",
        "book_ratings = [(b, top_books_with_name[i], mean_ratings.loc[int(tb)]) for i, (tb, b) in enumerate(zip(top_books, book_bias))]"
      ],
      "execution_count": 0,
      "outputs": []
    },
    {
      "cell_type": "code",
      "metadata": {
        "_uuid": "b0951ca49a0ac1f788b10bb1460f30e85bf576c8",
        "id": "pgQ_s7eW7HqH",
        "colab_type": "code",
        "colab": {}
      },
      "source": [
        "item0 = lambda o:o[0]"
      ],
      "execution_count": 0,
      "outputs": []
    },
    {
      "cell_type": "code",
      "metadata": {
        "_uuid": "3cf1729724390881838de407ed210abcb73c6cf9",
        "id": "mTANWbZm7HqK",
        "colab_type": "code",
        "colab": {
          "base_uri": "https://localhost:8080/",
          "height": 306
        },
        "outputId": "a114b133-0794-452e-d4fd-d50e353632ca"
      },
      "source": [
        "sorted(book_ratings, key=item0)[:15]"
      ],
      "execution_count": 48,
      "outputs": [
        {
          "output_type": "execute_result",
          "data": {
            "text/plain": [
              "[(tensor(-0.0929), 'The Almost Moon', 2.49),\n",
              " (tensor(-0.0340), 'Skinny Bitch', 2.9),\n",
              " (tensor(-0.0326), 'The Particular Sadness of Lemon Cake', 2.93),\n",
              " (tensor(-0.0277), 'Bergdorf Blondes', 3.0),\n",
              " (tensor(-0.0217), 'The Weird Sisters', 3.08),\n",
              " (tensor(-0.0150), 'Nightfall (The Vampire Diaries: The Return, #1)', 3.12),\n",
              " (tensor(-0.0030), 'Swamplandia!', 3.02),\n",
              " (tensor(0.0004), 'Need (Need, #1)', 3.22),\n",
              " (tensor(0.0005), 'Vampire Kisses (Vampire Kisses, #1)', 3.18),\n",
              " (tensor(0.0040),\n",
              "  'The Claiming of Sleeping Beauty (Sleeping Beauty, #1)',\n",
              "  3.28),\n",
              " (tensor(0.0056), 'Last Night at Chateau Marmont', 3.07),\n",
              " (tensor(0.0067), 'Skipping Christmas', 3.25),\n",
              " (tensor(0.0077), 'Wreckage', 3.13),\n",
              " (tensor(0.0108), 'Lipstick Jungle', 3.12),\n",
              " (tensor(0.0157), 'The Face on the Milk Carton (Janie Johnson, #1)', 3.3)]"
            ]
          },
          "metadata": {
            "tags": []
          },
          "execution_count": 48
        }
      ]
    },
    {
      "cell_type": "code",
      "metadata": {
        "_uuid": "a6aa3295e792bde8951243425e9a4de83f1eeef8",
        "id": "qHBXV2qc7HqN",
        "colab_type": "code",
        "colab": {
          "base_uri": "https://localhost:8080/",
          "height": 374
        },
        "outputId": "978e942d-c718-4033-9c80-b0f750828c94"
      },
      "source": [
        "sorted(book_ratings, key=item0, reverse=True)[:15]"
      ],
      "execution_count": 49,
      "outputs": [
        {
          "output_type": "execute_result",
          "data": {
            "text/plain": [
              "[(tensor(0.3179), 'The Kindly Ones (The Sandman #9)', 4.65),\n",
              " (tensor(0.3038), 'The Wake (The Sandman #10)', 4.65),\n",
              " (tensor(0.3032), 'The Story of a New Name (The Neapolitan Novels #2)', 4.23),\n",
              " (tensor(0.3011), 'Just Mercy: A Story of Justice and Redemption', 4.51),\n",
              " (tensor(0.3006),\n",
              "  'Harry Potter Boxed Set, Books 1-5 (Harry Potter, #1-5)',\n",
              "  4.77),\n",
              " (tensor(0.3001),\n",
              "  'Harry Potter and the Chamber of Secrets: Sheet Music for Flute with C.D',\n",
              "  4.57),\n",
              " (tensor(0.2991),\n",
              "  'The Story of the Lost Child (The Neapolitan Novels, #4)',\n",
              "  4.38),\n",
              " (tensor(0.2963), 'Saga, Vol. 4 (Saga, #4)', 4.5),\n",
              " (tensor(0.2958), 'The Complete Calvin and Hobbes', 4.73),\n",
              " (tensor(0.2936), 'Crooked Kingdom (Six of Crows, #2)', 4.55),\n",
              " (tensor(0.2931), 'The Exploits of Sherlock Holmes', 4.46),\n",
              " (tensor(0.2925), 'A Game of You (The Sandman #5)', 4.56),\n",
              " (tensor(0.2908), 'The Arrival', 4.45),\n",
              " (tensor(0.2900), 'The Bands of Mourning (Mistborn, #6)', 4.37),\n",
              " (tensor(0.2870), 'Bone: The Complete Edition', 4.27)]"
            ]
          },
          "metadata": {
            "tags": []
          },
          "execution_count": 49
        }
      ]
    },
    {
      "cell_type": "code",
      "metadata": {
        "_uuid": "5a3208a2094cac02977343b799f582856f8e8820",
        "id": "kjk9Raj47HqQ",
        "colab_type": "code",
        "outputId": "964ab6ee-93de-47ac-827f-c1905d5e6fe3",
        "colab": {
          "base_uri": "https://localhost:8080/",
          "height": 34
        }
      },
      "source": [
        "book_w = learn.weight(top_books, is_item=True)\n",
        "book_w.shape"
      ],
      "execution_count": 50,
      "outputs": [
        {
          "output_type": "execute_result",
          "data": {
            "text/plain": [
              "torch.Size([1000, 40])"
            ]
          },
          "metadata": {
            "tags": []
          },
          "execution_count": 50
        }
      ]
    },
    {
      "cell_type": "code",
      "metadata": {
        "_uuid": "9f343ade1d65a1b821522d2cabce8e8b85206ee6",
        "id": "dZUBtssM7HqS",
        "colab_type": "code",
        "outputId": "2f6b703f-97dd-4362-c82c-ed33e7c453e5",
        "colab": {
          "base_uri": "https://localhost:8080/",
          "height": 34
        }
      },
      "source": [
        "book_pca = book_w.pca(3)\n",
        "book_pca.shape"
      ],
      "execution_count": 51,
      "outputs": [
        {
          "output_type": "execute_result",
          "data": {
            "text/plain": [
              "torch.Size([1000, 3])"
            ]
          },
          "metadata": {
            "tags": []
          },
          "execution_count": 51
        }
      ]
    },
    {
      "cell_type": "code",
      "metadata": {
        "_uuid": "b89247d0ae497cc345177d5f749b954c034e8dde",
        "id": "XJ9FrVn77HqW",
        "colab_type": "code",
        "colab": {}
      },
      "source": [
        "fac0,fac1,fac2 = book_pca.t()\n",
        "book_comp = [(f, i) for f,i in zip(fac0, top_books_with_name)]"
      ],
      "execution_count": 0,
      "outputs": []
    },
    {
      "cell_type": "code",
      "metadata": {
        "_uuid": "b1e55b2c28b058d51b4ddd72b85a0e06422d26a4",
        "id": "6Lo2TNxi7Hqa",
        "colab_type": "code",
        "outputId": "c4978944-7384-4568-a461-430878a87217",
        "colab": {
          "base_uri": "https://localhost:8080/",
          "height": 204
        }
      },
      "source": [
        "sorted(book_comp, key=itemgetter(0), reverse=True)[:10]"
      ],
      "execution_count": 53,
      "outputs": [
        {
          "output_type": "execute_result",
          "data": {
            "text/plain": [
              "[(tensor(0.5242), 'The Kindly Ones (The Sandman #9)'),\n",
              " (tensor(0.5040), 'The Wake (The Sandman #10)'),\n",
              " (tensor(0.4974), 'The Complete Calvin and Hobbes'),\n",
              " (tensor(0.4891), 'A Game of You (The Sandman #5)'),\n",
              " (tensor(0.4667), 'SantaLand Diaries'),\n",
              " (tensor(0.4644), 'Pale Fire'),\n",
              " (tensor(0.4644), 'The Complete Stories'),\n",
              " (tensor(0.4517), \"The Razor's Edge\"),\n",
              " (tensor(0.4493), 'Twenty Love Poems and a Song of Despair'),\n",
              " (tensor(0.4281),\n",
              "  \"The Hitchhiker's Guide to the Galaxy: A Trilogy in Four Parts\")]"
            ]
          },
          "metadata": {
            "tags": []
          },
          "execution_count": 53
        }
      ]
    },
    {
      "cell_type": "code",
      "metadata": {
        "_uuid": "9883d22bcc158a14d08ac06c7630b2a232f3d3d5",
        "id": "9B7VIVXy7Hqe",
        "colab_type": "code",
        "outputId": "3a0b1e07-91b3-44c1-8485-fa2c746d2650",
        "colab": {
          "base_uri": "https://localhost:8080/",
          "height": 204
        }
      },
      "source": [
        "sorted(book_comp, key=itemgetter(0))[:10]"
      ],
      "execution_count": 54,
      "outputs": [
        {
          "output_type": "execute_result",
          "data": {
            "text/plain": [
              "[(tensor(-0.6516), 'The Darkest Pleasure (Lords of the Underworld #3)'),\n",
              " (tensor(-0.6297), 'No Rest for the Wicked (Immortals After Dark #3)'),\n",
              " (tensor(-0.6162), 'Night Play (Dark-Hunter #5, Were-Hunter #1)'),\n",
              " (tensor(-0.6115),\n",
              "  \"Wicked Deeds on a Winter's Night (Immortals After Dark #4)\"),\n",
              " (tensor(-0.5978), 'The Darkest Kiss (Lords of the Underworld #2)'),\n",
              " (tensor(-0.5974), 'A Hunger Like No Other (Immortals After Dark #2)'),\n",
              " (tensor(-0.5896), 'Passion Unleashed (Demonica #3)'),\n",
              " (tensor(-0.5743), 'Dance with the Devil (Dark-Hunter #3)'),\n",
              " (tensor(-0.5711), 'Night Embrace (Dark-Hunter #2)'),\n",
              " (tensor(-0.5637), 'The Warlord Wants Forever (Immortals After Dark #1)')]"
            ]
          },
          "metadata": {
            "tags": []
          },
          "execution_count": 54
        }
      ]
    },
    {
      "cell_type": "code",
      "metadata": {
        "_uuid": "10e93a9a0c3b79f693038fc68ac694d9f45ca04e",
        "id": "SdoE4zRT7Hqh",
        "colab_type": "code",
        "colab": {}
      },
      "source": [
        "book_comp = [(f, i) for f,i in zip(fac1, top_books_with_name)]"
      ],
      "execution_count": 0,
      "outputs": []
    },
    {
      "cell_type": "code",
      "metadata": {
        "_uuid": "c9e8f7c5e0309f40d5273072f54980fef1723b2d",
        "id": "ze4NBGTj7Hqi",
        "colab_type": "code",
        "outputId": "199a38dd-70d8-4872-fb5e-c6727821d989",
        "colab": {
          "base_uri": "https://localhost:8080/",
          "height": 204
        }
      },
      "source": [
        "sorted(book_comp, key=itemgetter(0), reverse=True)[:10]"
      ],
      "execution_count": 56,
      "outputs": [
        {
          "output_type": "execute_result",
          "data": {
            "text/plain": [
              "[(tensor(0.4845), 'Vampire Academy: The Ultimate Guide (Vampire Academy)'),\n",
              " (tensor(0.4703), 'Hunting Ground (Alpha & Omega, #2)'),\n",
              " (tensor(0.4481), 'Crooked Kingdom (Six of Crows, #2)'),\n",
              " (tensor(0.4456), 'Beauty and the Beast (Disney)'),\n",
              " (tensor(0.4399), 'Harry Potter Boxed Set, Books 1-5 (Harry Potter, #1-5)'),\n",
              " (tensor(0.4395), \"The Assassin's Blade (Throne of Glass, #0.1-0.5)\"),\n",
              " (tensor(0.4323), 'Frost Burned (Mercy Thompson, #7)'),\n",
              " (tensor(0.4309),\n",
              "  'Harry Potter and the Chamber of Secrets: Sheet Music for Flute with C.D'),\n",
              " (tensor(0.4246), 'River Marked (Mercy Thompson, #6)'),\n",
              " (tensor(0.4226), 'Fueled (Driven, #2)')]"
            ]
          },
          "metadata": {
            "tags": []
          },
          "execution_count": 56
        }
      ]
    },
    {
      "cell_type": "code",
      "metadata": {
        "_uuid": "ad5967179bccdf08c4ea7655404cab93908b4e62",
        "id": "nilSGvdL7Hqm",
        "colab_type": "code",
        "outputId": "612ec752-6993-4e5d-8884-595e9390ed67",
        "colab": {
          "base_uri": "https://localhost:8080/",
          "height": 187
        }
      },
      "source": [
        "sorted(book_comp, key=itemgetter(0))[:10]"
      ],
      "execution_count": 57,
      "outputs": [
        {
          "output_type": "execute_result",
          "data": {
            "text/plain": [
              "[(tensor(-0.5193), 'The Almost Moon'),\n",
              " (tensor(-0.5117), 'Swamplandia!'),\n",
              " (tensor(-0.4953), 'Wreckage'),\n",
              " (tensor(-0.4885), 'The Weird Sisters'),\n",
              " (tensor(-0.4761), 'Skinny Bitch'),\n",
              " (tensor(-0.4739), 'Sweet Tooth'),\n",
              " (tensor(-0.4610), 'The Particular Sadness of Lemon Cake'),\n",
              " (tensor(-0.4492), 'Shopgirl'),\n",
              " (tensor(-0.4368), 'The Woman Upstairs'),\n",
              " (tensor(-0.4358), 'Housekeeping')]"
            ]
          },
          "metadata": {
            "tags": []
          },
          "execution_count": 57
        }
      ]
    },
    {
      "cell_type": "code",
      "metadata": {
        "_uuid": "403b05a2269a82b7aad8d1dd2d4ed4a188b4667a",
        "id": "X_CL0eOa7Hqp",
        "colab_type": "code",
        "colab": {
          "base_uri": "https://localhost:8080/",
          "height": 887
        },
        "outputId": "54671f15-b8c3-44f9-cb5c-6d12685de7ff"
      },
      "source": [
        "idxs = np.random.choice(len(top_books_with_name), 50, replace=False)\n",
        "idxs = list(range(50))\n",
        "X = fac0[idxs]\n",
        "Y = fac2[idxs]\n",
        "plt.figure(figsize=(15,15))\n",
        "plt.scatter(X, Y)\n",
        "for i, x, y in zip(top_books_with_name[idxs], X, Y):\n",
        "    plt.text(x,y,i, color=np.random.rand(3)*0.7, fontsize=11)\n",
        "plt.show()"
      ],
      "execution_count": 58,
      "outputs": [
        {
          "output_type": "display_data",
          "data": {
            "image/png": "[encoded data removed]",
            "text/plain": [
              "<Figure size 1080x1080 with 1 Axes>"
            ]
          },
          "metadata": {
            "tags": []
          }
        }
      ]
    }
  ]
}