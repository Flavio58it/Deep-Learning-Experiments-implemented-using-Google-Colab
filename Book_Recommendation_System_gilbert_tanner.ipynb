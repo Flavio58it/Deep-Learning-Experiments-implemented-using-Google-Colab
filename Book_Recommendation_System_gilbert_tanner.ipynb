{
  "nbformat": 4,
  "nbformat_minor": 0,
  "metadata": {
    "colab": {
      "name": "Book Recommendation System_gilbert_tanner.ipynb",
      "version": "0.3.2",
      "provenance": [],
      "collapsed_sections": [],
      "toc_visible": true,
      "include_colab_link": true
    },
    "language_info": {
      "codemirror_mode": {
        "name": "ipython",
        "version": 3
      },
      "file_extension": ".py",
      "mimetype": "text/x-python",
      "name": "python",
      "nbconvert_exporter": "python",
      "pygments_lexer": "ipython3",
      "version": "3.6.8"
    },
    "kernelspec": {
      "name": "python3",
      "display_name": "Python 3"
    },
    "accelerator": "GPU"
  },
  "cells": [
    {
      "cell_type": "markdown",
      "metadata": {
        "id": "view-in-github",
        "colab_type": "text"
      },
      "source": [
        "<a href=\"https://colab.research.google.com/github/navneetkrc/Colab_fastai/blob/master/Book_Recommendation_System_gilbert_tanner.ipynb\" target=\"_parent\"><img src=\"https://colab.research.google.com/assets/colab-badge.svg\" alt=\"Open In Colab\"/></a>"
      ]
    },
    {
      "metadata": {
        "_uuid": "a336fb6ae5a3eb21f0e98bf9d067cd9e0a8edd67",
        "id": "IcXG0Dxi7Hoy",
        "colab_type": "text"
      },
      "cell_type": "markdown",
      "source": [
        "# Book Recommendation System"
      ]
    },
    {
      "metadata": {
        "_uuid": "88f96d2c8edbe7341969b4eade5e01b22808e926",
        "id": "4QyB45qa7Hoz",
        "colab_type": "code",
        "colab": {}
      },
      "cell_type": "code",
      "source": [
        "from fastai.collab import *"
      ],
      "execution_count": 0,
      "outputs": []
    },
    {
      "metadata": {
        "_uuid": "995f0d3f2b67ae1d5be4a4b3c76a1d6321d56102",
        "id": "v2KprEB17Ho3",
        "colab_type": "code",
        "outputId": "38005d33-a459-451d-fff1-c71c07b24eff",
        "colab": {
          "base_uri": "https://localhost:8080/",
          "height": 51
        }
      },
      "cell_type": "code",
      "source": [
        "!ls"
      ],
      "execution_count": 20,
      "outputs": [
        {
          "output_type": "stream",
          "text": [
            "books.csv      models\t    sample_book.xml  tags.csv\n",
            "book_tags.csv  ratings.csv  sample_data      to_read.csv\n"
          ],
          "name": "stdout"
        }
      ]
    },
    {
      "metadata": {
        "_uuid": "9e896d4d428d22aca0fd0da01fd2669e3baa349f",
        "id": "qB1woPQU7Ho7",
        "colab_type": "code",
        "outputId": "7d308f49-e02d-454b-a4f3-ec9e8e38fe55",
        "colab": {
          "base_uri": "https://localhost:8080/",
          "height": 204
        }
      },
      "cell_type": "code",
      "source": [
        "ratings = pd.read_csv('ratings.csv')\n",
        "ratings.head()"
      ],
      "execution_count": 21,
      "outputs": [
        {
          "output_type": "execute_result",
          "data": {
            "text/html": [
              "<div>\n",
              "<style scoped>\n",
              "    .dataframe tbody tr th:only-of-type {\n",
              "        vertical-align: middle;\n",
              "    }\n",
              "\n",
              "    .dataframe tbody tr th {\n",
              "        vertical-align: top;\n",
              "    }\n",
              "\n",
              "    .dataframe thead th {\n",
              "        text-align: right;\n",
              "    }\n",
              "</style>\n",
              "<table border=\"1\" class=\"dataframe\">\n",
              "  <thead>\n",
              "    <tr style=\"text-align: right;\">\n",
              "      <th></th>\n",
              "      <th>book_id</th>\n",
              "      <th>user_id</th>\n",
              "      <th>rating</th>\n",
              "    </tr>\n",
              "  </thead>\n",
              "  <tbody>\n",
              "    <tr>\n",
              "      <th>0</th>\n",
              "      <td>1</td>\n",
              "      <td>314</td>\n",
              "      <td>5</td>\n",
              "    </tr>\n",
              "    <tr>\n",
              "      <th>1</th>\n",
              "      <td>1</td>\n",
              "      <td>439</td>\n",
              "      <td>3</td>\n",
              "    </tr>\n",
              "    <tr>\n",
              "      <th>2</th>\n",
              "      <td>1</td>\n",
              "      <td>588</td>\n",
              "      <td>5</td>\n",
              "    </tr>\n",
              "    <tr>\n",
              "      <th>3</th>\n",
              "      <td>1</td>\n",
              "      <td>1169</td>\n",
              "      <td>4</td>\n",
              "    </tr>\n",
              "    <tr>\n",
              "      <th>4</th>\n",
              "      <td>1</td>\n",
              "      <td>1185</td>\n",
              "      <td>4</td>\n",
              "    </tr>\n",
              "  </tbody>\n",
              "</table>\n",
              "</div>"
            ],
            "text/plain": [
              "   book_id  user_id  rating\n",
              "0        1      314       5\n",
              "1        1      439       3\n",
              "2        1      588       5\n",
              "3        1     1169       4\n",
              "4        1     1185       4"
            ]
          },
          "metadata": {
            "tags": []
          },
          "execution_count": 21
        }
      ]
    },
    {
      "metadata": {
        "_uuid": "ddd31f28f2060bf474893212b3ec6b55062334cc",
        "id": "_QA_7cE17HpB",
        "colab_type": "code",
        "colab": {}
      },
      "cell_type": "code",
      "source": [
        "data = CollabDataBunch.from_df(ratings, seed=42, valid_pct=0.1, user_name='user_id', item_name='book_id', rating_name='rating')"
      ],
      "execution_count": 0,
      "outputs": []
    },
    {
      "metadata": {
        "_uuid": "bb5161f0387bae2ce3b9c59da8f54346c5159cfa",
        "id": "6789kQUc7HpE",
        "colab_type": "code",
        "outputId": "d743a4b7-95ae-44f3-871b-309656471f11",
        "colab": {
          "base_uri": "https://localhost:8080/",
          "height": 204
        }
      },
      "cell_type": "code",
      "source": [
        "data.show_batch()"
      ],
      "execution_count": 23,
      "outputs": [
        {
          "output_type": "display_data",
          "data": {
            "text/html": [
              "<table border=\"1\" class=\"dataframe\">\n",
              "  <thead>\n",
              "    <tr style=\"text-align: right;\">\n",
              "      <th>user_id</th>\n",
              "      <th>book_id</th>\n",
              "      <th>target</th>\n",
              "    </tr>\n",
              "  </thead>\n",
              "  <tbody>\n",
              "    <tr>\n",
              "      <td>14151</td>\n",
              "      <td>4805</td>\n",
              "      <td>5.0</td>\n",
              "    </tr>\n",
              "    <tr>\n",
              "      <td>39195</td>\n",
              "      <td>8428</td>\n",
              "      <td>5.0</td>\n",
              "    </tr>\n",
              "    <tr>\n",
              "      <td>19337</td>\n",
              "      <td>9468</td>\n",
              "      <td>4.0</td>\n",
              "    </tr>\n",
              "    <tr>\n",
              "      <td>24049</td>\n",
              "      <td>9486</td>\n",
              "      <td>4.0</td>\n",
              "    </tr>\n",
              "    <tr>\n",
              "      <td>15186</td>\n",
              "      <td>9761</td>\n",
              "      <td>3.0</td>\n",
              "    </tr>\n",
              "  </tbody>\n",
              "</table>"
            ],
            "text/plain": [
              "<IPython.core.display.HTML object>"
            ]
          },
          "metadata": {
            "tags": []
          }
        }
      ]
    },
    {
      "metadata": {
        "_uuid": "082dea4c28bb16e2e249f967520ff7ac0e6de21d",
        "id": "5Fm1Vog87HpH",
        "colab_type": "code",
        "outputId": "d3138d66-cd05-4e29-d3f8-0c6edf466202",
        "colab": {
          "base_uri": "https://localhost:8080/",
          "height": 34
        }
      },
      "cell_type": "code",
      "source": [
        "ratings.rating.min(), ratings.rating.max()"
      ],
      "execution_count": 24,
      "outputs": [
        {
          "output_type": "execute_result",
          "data": {
            "text/plain": [
              "(1, 5)"
            ]
          },
          "metadata": {
            "tags": []
          },
          "execution_count": 24
        }
      ]
    },
    {
      "metadata": {
        "_uuid": "1be0675a845a48346536718a10c70066335eb632",
        "id": "_wOcF1kJ7HpK",
        "colab_type": "text"
      },
      "cell_type": "markdown",
      "source": [
        "## EmbeddingDotBias Model"
      ]
    },
    {
      "metadata": {
        "_uuid": "586efd6475cb2b5e677fad8bc3898ff3d075b187",
        "id": "8yAnHj7m7HpK",
        "colab_type": "code",
        "colab": {}
      },
      "cell_type": "code",
      "source": [
        "learn = collab_learner(data, n_factors=40, y_range=(1, 5), wd=1e-1, model_dir=\"/tmp/model/\", path=\"/tmp/\")"
      ],
      "execution_count": 0,
      "outputs": []
    },
    {
      "metadata": {
        "_uuid": "c9e35e23aea91cd6bdc8ae061e4638eba70aac71",
        "id": "oaC1UVhX7HpM",
        "colab_type": "code",
        "outputId": "2732fa23-adc6-4ad4-968a-63ce50c65e57",
        "colab": {
          "base_uri": "https://localhost:8080/",
          "height": 289
        }
      },
      "cell_type": "code",
      "source": [
        "print(learn.summary())\n",
        "# This gives us User Embeddings, Item EMbeddings, User Bias, and Item Bias"
      ],
      "execution_count": 26,
      "outputs": [
        {
          "output_type": "stream",
          "text": [
            "======================================================================\n",
            "Layer (type)         Output Shape         Param #    Trainable \n",
            "======================================================================\n",
            "Embedding            [40]                 2,134,040  True      \n",
            "______________________________________________________________________\n",
            "Embedding            [40]                 400,040    True      \n",
            "______________________________________________________________________\n",
            "Embedding            [1]                  53,351     True      \n",
            "______________________________________________________________________\n",
            "Embedding            [1]                  10,001     True      \n",
            "______________________________________________________________________\n",
            "\n",
            "Total params: 2,597,432\n",
            "Total trainable params: 2,597,432\n",
            "Total non-trainable params: 0\n",
            "\n"
          ],
          "name": "stdout"
        }
      ]
    },
    {
      "metadata": {
        "_uuid": "e921c5eba6ede1a03c533be762d2387cfdf09f9d",
        "id": "HcC2cu__7HpQ",
        "colab_type": "code",
        "outputId": "c8c598f7-0e98-4731-b0b0-b773cc925223",
        "colab": {
          "base_uri": "https://localhost:8080/",
          "height": 300
        }
      },
      "cell_type": "code",
      "source": [
        "learn.lr_find()\n",
        "learn.recorder.plot()"
      ],
      "execution_count": 27,
      "outputs": [
        {
          "output_type": "display_data",
          "data": {
            "text/html": [
              ""
            ],
            "text/plain": [
              "<IPython.core.display.HTML object>"
            ]
          },
          "metadata": {
            "tags": []
          }
        },
        {
          "output_type": "stream",
          "text": [
            "LR Finder is complete, type {learner_name}.recorder.plot() to see the graph.\n"
          ],
          "name": "stdout"
        },
        {
          "output_type": "display_data",
          "data": {
            "image/png": "[encoded data removed]",
            "text/plain": [
              "<Figure size 432x288 with 1 Axes>"
            ]
          },
          "metadata": {
            "tags": []
          }
        }
      ]
    },
    {
      "metadata": {
        "_uuid": "b2bbaa618dcfb47e2150c99271e819ee9e6374b2",
        "id": "F6Wz2u6c7HpU",
        "colab_type": "code",
        "outputId": "366ebf7a-fe42-446f-9a28-8a9160943730",
        "colab": {
          "base_uri": "https://localhost:8080/",
          "height": 227
        }
      },
      "cell_type": "code",
      "source": [
        "learn.fit_one_cycle(5, 3e-4)"
      ],
      "execution_count": 28,
      "outputs": [
        {
          "output_type": "display_data",
          "data": {
            "text/html": [
              "Total time: 12:22 <p><table border=\"1\" class=\"dataframe\">\n",
              "  <thead>\n",
              "    <tr style=\"text-align: left;\">\n",
              "      <th>epoch</th>\n",
              "      <th>train_loss</th>\n",
              "      <th>valid_loss</th>\n",
              "      <th>time</th>\n",
              "    </tr>\n",
              "  </thead>\n",
              "  <tbody>\n",
              "    <tr>\n",
              "      <td>0</td>\n",
              "      <td>1.583123</td>\n",
              "      <td>1.589371</td>\n",
              "      <td>02:25</td>\n",
              "    </tr>\n",
              "    <tr>\n",
              "      <td>1</td>\n",
              "      <td>1.304582</td>\n",
              "      <td>1.316817</td>\n",
              "      <td>02:27</td>\n",
              "    </tr>\n",
              "    <tr>\n",
              "      <td>2</td>\n",
              "      <td>1.115972</td>\n",
              "      <td>1.128306</td>\n",
              "      <td>02:29</td>\n",
              "    </tr>\n",
              "    <tr>\n",
              "      <td>3</td>\n",
              "      <td>1.014943</td>\n",
              "      <td>1.062750</td>\n",
              "      <td>02:28</td>\n",
              "    </tr>\n",
              "    <tr>\n",
              "      <td>4</td>\n",
              "      <td>1.012767</td>\n",
              "      <td>1.053232</td>\n",
              "      <td>02:30</td>\n",
              "    </tr>\n",
              "  </tbody>\n",
              "</table>"
            ],
            "text/plain": [
              "<IPython.core.display.HTML object>"
            ]
          },
          "metadata": {
            "tags": []
          }
        }
      ]
    },
    {
      "metadata": {
        "_uuid": "1f572c23e9c42b6ad28b2b1dd7828ec0dad0d3c0",
        "id": "KA5XwGjv7HpY",
        "colab_type": "code",
        "colab": {}
      },
      "cell_type": "code",
      "source": [
        "learn.save('goodbooks-dot-1')"
      ],
      "execution_count": 0,
      "outputs": []
    },
    {
      "metadata": {
        "_uuid": "2d16aa90a97b8df051e16f2455213d2928fc0d14",
        "id": "3YZyE6ty7Hpa",
        "colab_type": "text"
      },
      "cell_type": "markdown",
      "source": [
        "## EmbeddingNN Model"
      ]
    },
    {
      "metadata": {
        "_uuid": "692ca1e9c9e6957a0c420dc06c7839fe47e6dce5",
        "id": "bbCvTOb17Hpb",
        "colab_type": "code",
        "colab": {}
      },
      "cell_type": "code",
      "source": [
        "learn = collab_learner(data, use_nn=True, emb_szs={'user_id': 40, 'book_id':40}, layers=[256, 128], y_range=(1, 5))"
      ],
      "execution_count": 0,
      "outputs": []
    },
    {
      "metadata": {
        "_uuid": "2e2f6412887e377d3935b1703f8d803f03a04796",
        "id": "BOjAAY-57Hpd",
        "colab_type": "code",
        "colab": {
          "base_uri": "https://localhost:8080/",
          "height": 300
        },
        "outputId": "6d239d43-51ce-4427-c499-62a284596676"
      },
      "cell_type": "code",
      "source": [
        "learn.lr_find()\n",
        "learn.recorder.plot()"
      ],
      "execution_count": 31,
      "outputs": [
        {
          "output_type": "display_data",
          "data": {
            "text/html": [
              ""
            ],
            "text/plain": [
              "<IPython.core.display.HTML object>"
            ]
          },
          "metadata": {
            "tags": []
          }
        },
        {
          "output_type": "stream",
          "text": [
            "LR Finder is complete, type {learner_name}.recorder.plot() to see the graph.\n"
          ],
          "name": "stdout"
        },
        {
          "output_type": "display_data",
          "data": {
            "image/png": "[encoded data removed]",
            "text/plain": [
              "<Figure size 432x288 with 1 Axes>"
            ]
          },
          "metadata": {
            "tags": []
          }
        }
      ]
    },
    {
      "metadata": {
        "_uuid": "26a3e26aec670ae6efd27ba18c813ef65c884558",
        "id": "iIK-bfIg7Hpi",
        "colab_type": "code",
        "colab": {
          "base_uri": "https://localhost:8080/",
          "height": 227
        },
        "outputId": "e581fe41-9b39-47fe-ad44-75aef61ac636"
      },
      "cell_type": "code",
      "source": [
        "learn.fit_one_cycle(5, 1e-2)"
      ],
      "execution_count": 32,
      "outputs": [
        {
          "output_type": "display_data",
          "data": {
            "text/html": [
              "Total time: 15:22 <p><table border=\"1\" class=\"dataframe\">\n",
              "  <thead>\n",
              "    <tr style=\"text-align: left;\">\n",
              "      <th>epoch</th>\n",
              "      <th>train_loss</th>\n",
              "      <th>valid_loss</th>\n",
              "      <th>time</th>\n",
              "    </tr>\n",
              "  </thead>\n",
              "  <tbody>\n",
              "    <tr>\n",
              "      <td>0</td>\n",
              "      <td>0.790592</td>\n",
              "      <td>0.761457</td>\n",
              "      <td>03:09</td>\n",
              "    </tr>\n",
              "    <tr>\n",
              "      <td>1</td>\n",
              "      <td>0.734126</td>\n",
              "      <td>0.739896</td>\n",
              "      <td>03:10</td>\n",
              "    </tr>\n",
              "    <tr>\n",
              "      <td>2</td>\n",
              "      <td>0.707992</td>\n",
              "      <td>0.725724</td>\n",
              "      <td>03:03</td>\n",
              "    </tr>\n",
              "    <tr>\n",
              "      <td>3</td>\n",
              "      <td>0.672949</td>\n",
              "      <td>0.705706</td>\n",
              "      <td>02:59</td>\n",
              "    </tr>\n",
              "    <tr>\n",
              "      <td>4</td>\n",
              "      <td>0.618984</td>\n",
              "      <td>0.718394</td>\n",
              "      <td>02:59</td>\n",
              "    </tr>\n",
              "  </tbody>\n",
              "</table>"
            ],
            "text/plain": [
              "<IPython.core.display.HTML object>"
            ]
          },
          "metadata": {
            "tags": []
          }
        }
      ]
    },
    {
      "metadata": {
        "_uuid": "eb81cfc16cb5da65781ce0bbedaacdebd27788d3",
        "id": "VXU32qQX7Hpl",
        "colab_type": "code",
        "colab": {}
      },
      "cell_type": "code",
      "source": [
        "learn.save('goodbooks-nn-1')"
      ],
      "execution_count": 0,
      "outputs": []
    },
    {
      "metadata": {
        "_uuid": "75e8930f18401e2fd7ac8ebe2b52dd354f643fad",
        "id": "QUB3Ik2t7Hpo",
        "colab_type": "text"
      },
      "cell_type": "markdown",
      "source": [
        "## Interpretation"
      ]
    },
    {
      "metadata": {
        "_uuid": "4bc85cecb1fff002a74f874cc8e86ed33d46c770",
        "id": "MPDbYSHp7Hpo",
        "colab_type": "code",
        "colab": {}
      },
      "cell_type": "code",
      "source": [
        "learn = collab_learner(data, n_factors=40, y_range=(1, 5), wd=1e-1, model_dir=\"/tmp/model/\", path=\"/tmp/\")\n",
        "learn.load('goodbooks-dot-1');"
      ],
      "execution_count": 0,
      "outputs": []
    },
    {
      "metadata": {
        "_uuid": "f92e25f9db1d6937995b14a94e365fb5f9f9dd36",
        "id": "7_apw4Gs7Hps",
        "colab_type": "code",
        "colab": {
          "base_uri": "https://localhost:8080/",
          "height": 372
        },
        "outputId": "8de9e135-520d-4f7d-f8cc-c49d1fb0d810"
      },
      "cell_type": "code",
      "source": [
        "books = pd.read_csv('books.csv')\n",
        "books.head()"
      ],
      "execution_count": 36,
      "outputs": [
        {
          "output_type": "execute_result",
          "data": {
            "text/html": [
              "<div>\n",
              "<style scoped>\n",
              "    .dataframe tbody tr th:only-of-type {\n",
              "        vertical-align: middle;\n",
              "    }\n",
              "\n",
              "    .dataframe tbody tr th {\n",
              "        vertical-align: top;\n",
              "    }\n",
              "\n",
              "    .dataframe thead th {\n",
              "        text-align: right;\n",
              "    }\n",
              "</style>\n",
              "<table border=\"1\" class=\"dataframe\">\n",
              "  <thead>\n",
              "    <tr style=\"text-align: right;\">\n",
              "      <th></th>\n",
              "      <th>id</th>\n",
              "      <th>book_id</th>\n",
              "      <th>best_book_id</th>\n",
              "      <th>work_id</th>\n",
              "      <th>books_count</th>\n",
              "      <th>isbn</th>\n",
              "      <th>isbn13</th>\n",
              "      <th>authors</th>\n",
              "      <th>original_publication_year</th>\n",
              "      <th>original_title</th>\n",
              "      <th>...</th>\n",
              "      <th>ratings_count</th>\n",
              "      <th>work_ratings_count</th>\n",
              "      <th>work_text_reviews_count</th>\n",
              "      <th>ratings_1</th>\n",
              "      <th>ratings_2</th>\n",
              "      <th>ratings_3</th>\n",
              "      <th>ratings_4</th>\n",
              "      <th>ratings_5</th>\n",
              "      <th>image_url</th>\n",
              "      <th>small_image_url</th>\n",
              "    </tr>\n",
              "  </thead>\n",
              "  <tbody>\n",
              "    <tr>\n",
              "      <th>0</th>\n",
              "      <td>1</td>\n",
              "      <td>2767052</td>\n",
              "      <td>2767052</td>\n",
              "      <td>2792775</td>\n",
              "      <td>272</td>\n",
              "      <td>439023483</td>\n",
              "      <td>9.780439e+12</td>\n",
              "      <td>Suzanne Collins</td>\n",
              "      <td>2008.0</td>\n",
              "      <td>The Hunger Games</td>\n",
              "      <td>...</td>\n",
              "      <td>4780653</td>\n",
              "      <td>4942365</td>\n",
              "      <td>155254</td>\n",
              "      <td>66715</td>\n",
              "      <td>127936</td>\n",
              "      <td>560092</td>\n",
              "      <td>1481305</td>\n",
              "      <td>2706317</td>\n",
              "      <td>https://images.gr-assets.com/books/1447303603m...</td>\n",
              "      <td>https://images.gr-assets.com/books/1447303603s...</td>\n",
              "    </tr>\n",
              "    <tr>\n",
              "      <th>1</th>\n",
              "      <td>2</td>\n",
              "      <td>3</td>\n",
              "      <td>3</td>\n",
              "      <td>4640799</td>\n",
              "      <td>491</td>\n",
              "      <td>439554934</td>\n",
              "      <td>9.780440e+12</td>\n",
              "      <td>J.K. Rowling, Mary GrandPré</td>\n",
              "      <td>1997.0</td>\n",
              "      <td>Harry Potter and the Philosopher's Stone</td>\n",
              "      <td>...</td>\n",
              "      <td>4602479</td>\n",
              "      <td>4800065</td>\n",
              "      <td>75867</td>\n",
              "      <td>75504</td>\n",
              "      <td>101676</td>\n",
              "      <td>455024</td>\n",
              "      <td>1156318</td>\n",
              "      <td>3011543</td>\n",
              "      <td>https://images.gr-assets.com/books/1474154022m...</td>\n",
              "      <td>https://images.gr-assets.com/books/1474154022s...</td>\n",
              "    </tr>\n",
              "    <tr>\n",
              "      <th>2</th>\n",
              "      <td>3</td>\n",
              "      <td>41865</td>\n",
              "      <td>41865</td>\n",
              "      <td>3212258</td>\n",
              "      <td>226</td>\n",
              "      <td>316015849</td>\n",
              "      <td>9.780316e+12</td>\n",
              "      <td>Stephenie Meyer</td>\n",
              "      <td>2005.0</td>\n",
              "      <td>Twilight</td>\n",
              "      <td>...</td>\n",
              "      <td>3866839</td>\n",
              "      <td>3916824</td>\n",
              "      <td>95009</td>\n",
              "      <td>456191</td>\n",
              "      <td>436802</td>\n",
              "      <td>793319</td>\n",
              "      <td>875073</td>\n",
              "      <td>1355439</td>\n",
              "      <td>https://images.gr-assets.com/books/1361039443m...</td>\n",
              "      <td>https://images.gr-assets.com/books/1361039443s...</td>\n",
              "    </tr>\n",
              "    <tr>\n",
              "      <th>3</th>\n",
              "      <td>4</td>\n",
              "      <td>2657</td>\n",
              "      <td>2657</td>\n",
              "      <td>3275794</td>\n",
              "      <td>487</td>\n",
              "      <td>61120081</td>\n",
              "      <td>9.780061e+12</td>\n",
              "      <td>Harper Lee</td>\n",
              "      <td>1960.0</td>\n",
              "      <td>To Kill a Mockingbird</td>\n",
              "      <td>...</td>\n",
              "      <td>3198671</td>\n",
              "      <td>3340896</td>\n",
              "      <td>72586</td>\n",
              "      <td>60427</td>\n",
              "      <td>117415</td>\n",
              "      <td>446835</td>\n",
              "      <td>1001952</td>\n",
              "      <td>1714267</td>\n",
              "      <td>https://images.gr-assets.com/books/1361975680m...</td>\n",
              "      <td>https://images.gr-assets.com/books/1361975680s...</td>\n",
              "    </tr>\n",
              "    <tr>\n",
              "      <th>4</th>\n",
              "      <td>5</td>\n",
              "      <td>4671</td>\n",
              "      <td>4671</td>\n",
              "      <td>245494</td>\n",
              "      <td>1356</td>\n",
              "      <td>743273567</td>\n",
              "      <td>9.780743e+12</td>\n",
              "      <td>F. Scott Fitzgerald</td>\n",
              "      <td>1925.0</td>\n",
              "      <td>The Great Gatsby</td>\n",
              "      <td>...</td>\n",
              "      <td>2683664</td>\n",
              "      <td>2773745</td>\n",
              "      <td>51992</td>\n",
              "      <td>86236</td>\n",
              "      <td>197621</td>\n",
              "      <td>606158</td>\n",
              "      <td>936012</td>\n",
              "      <td>947718</td>\n",
              "      <td>https://images.gr-assets.com/books/1490528560m...</td>\n",
              "      <td>https://images.gr-assets.com/books/1490528560s...</td>\n",
              "    </tr>\n",
              "  </tbody>\n",
              "</table>\n",
              "<p>5 rows × 23 columns</p>\n",
              "</div>"
            ],
            "text/plain": [
              "   id  book_id  best_book_id  work_id  books_count       isbn        isbn13  \\\n",
              "0   1  2767052       2767052  2792775          272  439023483  9.780439e+12   \n",
              "1   2        3             3  4640799          491  439554934  9.780440e+12   \n",
              "2   3    41865         41865  3212258          226  316015849  9.780316e+12   \n",
              "3   4     2657          2657  3275794          487   61120081  9.780061e+12   \n",
              "4   5     4671          4671   245494         1356  743273567  9.780743e+12   \n",
              "\n",
              "                       authors  original_publication_year  \\\n",
              "0              Suzanne Collins                     2008.0   \n",
              "1  J.K. Rowling, Mary GrandPré                     1997.0   \n",
              "2              Stephenie Meyer                     2005.0   \n",
              "3                   Harper Lee                     1960.0   \n",
              "4          F. Scott Fitzgerald                     1925.0   \n",
              "\n",
              "                             original_title  \\\n",
              "0                          The Hunger Games   \n",
              "1  Harry Potter and the Philosopher's Stone   \n",
              "2                                  Twilight   \n",
              "3                     To Kill a Mockingbird   \n",
              "4                          The Great Gatsby   \n",
              "\n",
              "                         ...                         ratings_count  \\\n",
              "0                        ...                               4780653   \n",
              "1                        ...                               4602479   \n",
              "2                        ...                               3866839   \n",
              "3                        ...                               3198671   \n",
              "4                        ...                               2683664   \n",
              "\n",
              "  work_ratings_count  work_text_reviews_count  ratings_1  ratings_2  \\\n",
              "0            4942365                   155254      66715     127936   \n",
              "1            4800065                    75867      75504     101676   \n",
              "2            3916824                    95009     456191     436802   \n",
              "3            3340896                    72586      60427     117415   \n",
              "4            2773745                    51992      86236     197621   \n",
              "\n",
              "   ratings_3  ratings_4  ratings_5  \\\n",
              "0     560092    1481305    2706317   \n",
              "1     455024    1156318    3011543   \n",
              "2     793319     875073    1355439   \n",
              "3     446835    1001952    1714267   \n",
              "4     606158     936012     947718   \n",
              "\n",
              "                                           image_url  \\\n",
              "0  https://images.gr-assets.com/books/1447303603m...   \n",
              "1  https://images.gr-assets.com/books/1474154022m...   \n",
              "2  https://images.gr-assets.com/books/1361039443m...   \n",
              "3  https://images.gr-assets.com/books/1361975680m...   \n",
              "4  https://images.gr-assets.com/books/1490528560m...   \n",
              "\n",
              "                                     small_image_url  \n",
              "0  https://images.gr-assets.com/books/1447303603s...  \n",
              "1  https://images.gr-assets.com/books/1474154022s...  \n",
              "2  https://images.gr-assets.com/books/1361039443s...  \n",
              "3  https://images.gr-assets.com/books/1361975680s...  \n",
              "4  https://images.gr-assets.com/books/1490528560s...  \n",
              "\n",
              "[5 rows x 23 columns]"
            ]
          },
          "metadata": {
            "tags": []
          },
          "execution_count": 36
        }
      ]
    },
    {
      "metadata": {
        "_uuid": "e3e0b59db71e119646cc4adc6b6f00913519d25c",
        "id": "UqidVQJY7Hpx",
        "colab_type": "code",
        "colab": {
          "base_uri": "https://localhost:8080/",
          "height": 34
        },
        "outputId": "4bc2b0de-ec36-456d-f9bd-6a4c9f5577aa"
      },
      "cell_type": "code",
      "source": [
        "g = ratings.groupby('book_id')['rating'].count()\n",
        "top_books = g.sort_values(ascending=False).index.values[:1000]\n",
        "top_books = top_books.astype(str)\n",
        "top_books[:10]"
      ],
      "execution_count": 37,
      "outputs": [
        {
          "output_type": "execute_result",
          "data": {
            "text/plain": [
              "array(['5000', '3315', '3313', '3312', '3311', '3309', '3308', '3307', '3306', '3304'], dtype='<U21')"
            ]
          },
          "metadata": {
            "tags": []
          },
          "execution_count": 37
        }
      ]
    },
    {
      "metadata": {
        "_uuid": "594443ad53a3b2eca20f6dacd0df4e22ca9243d5",
        "id": "r9SKVIZ-7Hp4",
        "colab_type": "code",
        "colab": {}
      },
      "cell_type": "code",
      "source": [
        "top_books_with_name = []\n",
        "for book in top_books:\n",
        "    top_books_with_name.append(books[(books['book_id']==int(book))]['title'].iloc[0])\n",
        "top_books_with_name = np.array(top_books_with_name)\n",
        "top_books_with_name"
      ],
      "execution_count": 0,
      "outputs": []
    },
    {
      "metadata": {
        "_uuid": "e20eefd2a5ac29a8145c3c4f298a3b3222066f94",
        "id": "6Ew6jTJs7Hp7",
        "colab_type": "text"
      },
      "cell_type": "markdown",
      "source": [
        "## Book Bias"
      ]
    },
    {
      "metadata": {
        "_uuid": "e9ef5dbcf4f2f7b697ee20f366d89b46d43316d3",
        "id": "AkrrUtz37Hp8",
        "colab_type": "code",
        "colab": {
          "base_uri": "https://localhost:8080/",
          "height": 119
        },
        "outputId": "d4ad0771-78be-4e4f-c6e1-27c5f1add07c"
      },
      "cell_type": "code",
      "source": [
        "learn.model"
      ],
      "execution_count": 39,
      "outputs": [
        {
          "output_type": "execute_result",
          "data": {
            "text/plain": [
              "EmbeddingDotBias(\n",
              "  (u_weight): Embedding(53351, 40)\n",
              "  (i_weight): Embedding(10001, 40)\n",
              "  (u_bias): Embedding(53351, 1)\n",
              "  (i_bias): Embedding(10001, 1)\n",
              ")"
            ]
          },
          "metadata": {
            "tags": []
          },
          "execution_count": 39
        }
      ]
    },
    {
      "metadata": {
        "_uuid": "4234db58aa944ca8bfbe3d3f7cd7c3caa108866c",
        "id": "2rKQRNqc7HqA",
        "colab_type": "code",
        "colab": {}
      },
      "cell_type": "code",
      "source": [
        "book_bias = learn.bias(top_books, is_item=True)"
      ],
      "execution_count": 0,
      "outputs": []
    },
    {
      "metadata": {
        "_uuid": "d3243def55595325e969aee176cda3b47ab45a5c",
        "id": "Q2kF406F7HqC",
        "colab_type": "code",
        "colab": {}
      },
      "cell_type": "code",
      "source": [
        "mean_ratings = ratings.groupby('book_id')['rating'].mean()\n",
        "book_ratings = [(b, top_books_with_name[i], mean_ratings.loc[int(tb)]) for i, (tb, b) in enumerate(zip(top_books, book_bias))]"
      ],
      "execution_count": 0,
      "outputs": []
    },
    {
      "metadata": {
        "_uuid": "b0951ca49a0ac1f788b10bb1460f30e85bf576c8",
        "id": "pgQ_s7eW7HqH",
        "colab_type": "code",
        "colab": {}
      },
      "cell_type": "code",
      "source": [
        "item0 = lambda o:o[0]"
      ],
      "execution_count": 0,
      "outputs": []
    },
    {
      "metadata": {
        "_uuid": "3cf1729724390881838de407ed210abcb73c6cf9",
        "id": "mTANWbZm7HqK",
        "colab_type": "code",
        "colab": {}
      },
      "cell_type": "code",
      "source": [
        "sorted(book_ratings, key=item0)[:15]"
      ],
      "execution_count": 0,
      "outputs": []
    },
    {
      "metadata": {
        "_uuid": "a6aa3295e792bde8951243425e9a4de83f1eeef8",
        "id": "qHBXV2qc7HqN",
        "colab_type": "code",
        "colab": {}
      },
      "cell_type": "code",
      "source": [
        "sorted(book_ratings, key=item0, reverse=True)[:15]"
      ],
      "execution_count": 0,
      "outputs": []
    },
    {
      "metadata": {
        "_uuid": "5a3208a2094cac02977343b799f582856f8e8820",
        "id": "kjk9Raj47HqQ",
        "colab_type": "code",
        "colab": {
          "base_uri": "https://localhost:8080/",
          "height": 34
        },
        "outputId": "35d51e03-17f4-47a9-d9fa-ef76f539e222"
      },
      "cell_type": "code",
      "source": [
        "book_w = learn.weight(top_books, is_item=True)\n",
        "book_w.shape"
      ],
      "execution_count": 46,
      "outputs": [
        {
          "output_type": "execute_result",
          "data": {
            "text/plain": [
              "torch.Size([1000, 40])"
            ]
          },
          "metadata": {
            "tags": []
          },
          "execution_count": 46
        }
      ]
    },
    {
      "metadata": {
        "_uuid": "9f343ade1d65a1b821522d2cabce8e8b85206ee6",
        "id": "dZUBtssM7HqS",
        "colab_type": "code",
        "colab": {
          "base_uri": "https://localhost:8080/",
          "height": 34
        },
        "outputId": "5c751d72-c095-477a-ac03-70d71a0c4166"
      },
      "cell_type": "code",
      "source": [
        "book_pca = book_w.pca(3)\n",
        "book_pca.shape"
      ],
      "execution_count": 47,
      "outputs": [
        {
          "output_type": "execute_result",
          "data": {
            "text/plain": [
              "torch.Size([1000, 3])"
            ]
          },
          "metadata": {
            "tags": []
          },
          "execution_count": 47
        }
      ]
    },
    {
      "metadata": {
        "_uuid": "b89247d0ae497cc345177d5f749b954c034e8dde",
        "id": "XJ9FrVn77HqW",
        "colab_type": "code",
        "colab": {}
      },
      "cell_type": "code",
      "source": [
        "fac0,fac1,fac2 = book_pca.t()\n",
        "book_comp = [(f, i) for f,i in zip(fac0, top_books_with_name)]"
      ],
      "execution_count": 0,
      "outputs": []
    },
    {
      "metadata": {
        "_uuid": "b1e55b2c28b058d51b4ddd72b85a0e06422d26a4",
        "id": "6Lo2TNxi7Hqa",
        "colab_type": "code",
        "colab": {
          "base_uri": "https://localhost:8080/",
          "height": 34
        },
        "outputId": "e2256f83-6cd1-486f-9a2b-b867a02e59c9"
      },
      "cell_type": "code",
      "source": [
        "sorted(book_comp, key=itemgetter(0), reverse=True)[:10]"
      ],
      "execution_count": 49,
      "outputs": [
        {
          "output_type": "execute_result",
          "data": {
            "text/plain": [
              "[]"
            ]
          },
          "metadata": {
            "tags": []
          },
          "execution_count": 49
        }
      ]
    },
    {
      "metadata": {
        "_uuid": "9883d22bcc158a14d08ac06c7630b2a232f3d3d5",
        "id": "9B7VIVXy7Hqe",
        "colab_type": "code",
        "colab": {
          "base_uri": "https://localhost:8080/",
          "height": 34
        },
        "outputId": "e3b97778-97a6-41a0-8e78-aa085052d8a6"
      },
      "cell_type": "code",
      "source": [
        "sorted(book_comp, key=itemgetter(0))[:10]"
      ],
      "execution_count": 50,
      "outputs": [
        {
          "output_type": "execute_result",
          "data": {
            "text/plain": [
              "[]"
            ]
          },
          "metadata": {
            "tags": []
          },
          "execution_count": 50
        }
      ]
    },
    {
      "metadata": {
        "_uuid": "10e93a9a0c3b79f693038fc68ac694d9f45ca04e",
        "id": "SdoE4zRT7Hqh",
        "colab_type": "code",
        "colab": {}
      },
      "cell_type": "code",
      "source": [
        "book_comp = [(f, i) for f,i in zip(fac1, top_books_with_name)]"
      ],
      "execution_count": 0,
      "outputs": []
    },
    {
      "metadata": {
        "_uuid": "c9e8f7c5e0309f40d5273072f54980fef1723b2d",
        "id": "ze4NBGTj7Hqi",
        "colab_type": "code",
        "colab": {
          "base_uri": "https://localhost:8080/",
          "height": 34
        },
        "outputId": "80c7c0c3-e7b2-48fd-f427-11eef2ad3276"
      },
      "cell_type": "code",
      "source": [
        "sorted(book_comp, key=itemgetter(0), reverse=True)[:10]"
      ],
      "execution_count": 52,
      "outputs": [
        {
          "output_type": "execute_result",
          "data": {
            "text/plain": [
              "[]"
            ]
          },
          "metadata": {
            "tags": []
          },
          "execution_count": 52
        }
      ]
    },
    {
      "metadata": {
        "_uuid": "ad5967179bccdf08c4ea7655404cab93908b4e62",
        "id": "nilSGvdL7Hqm",
        "colab_type": "code",
        "colab": {
          "base_uri": "https://localhost:8080/",
          "height": 34
        },
        "outputId": "911d3db5-7d57-4ffc-f5b4-eff28fb8672f"
      },
      "cell_type": "code",
      "source": [
        "sorted(book_comp, key=itemgetter(0))[:10]"
      ],
      "execution_count": 53,
      "outputs": [
        {
          "output_type": "execute_result",
          "data": {
            "text/plain": [
              "[]"
            ]
          },
          "metadata": {
            "tags": []
          },
          "execution_count": 53
        }
      ]
    },
    {
      "metadata": {
        "_uuid": "403b05a2269a82b7aad8d1dd2d4ed4a188b4667a",
        "id": "X_CL0eOa7Hqp",
        "colab_type": "code",
        "colab": {}
      },
      "cell_type": "code",
      "source": [
        "idxs = np.random.choice(len(top_books_with_name), 50, replace=False)\n",
        "idxs = list(range(50))\n",
        "X = fac0[idxs]\n",
        "Y = fac2[idxs]\n",
        "plt.figure(figsize=(15,15))\n",
        "plt.scatter(X, Y)\n",
        "for i, x, y in zip(top_books_with_name[idxs], X, Y):\n",
        "    plt.text(x,y,i, color=np.random.rand(3)*0.7, fontsize=11)\n",
        "plt.show()"
      ],
      "execution_count": 0,
      "outputs": []
    }
  ]
}